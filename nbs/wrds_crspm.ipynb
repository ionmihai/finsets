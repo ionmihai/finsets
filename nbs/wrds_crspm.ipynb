{
 "cells": [
  {
   "attachments": {},
   "cell_type": "markdown",
   "metadata": {},
   "source": [
    "# wrds_crspm\n",
    "\n",
    "> Retrieve and process data from WRDS CRSP Monthly Stock File"
   ]
  },
  {
   "attachments": {},
   "cell_type": "markdown",
   "metadata": {},
   "source": [
    "Since this is a proprietary dataset, in the documentation below, I can not show any of the data that is being retrieved/generated (will show only column names)."
   ]
  },
  {
   "cell_type": "code",
   "execution_count": null,
   "metadata": {},
   "outputs": [],
   "source": [
    "#| default_exp wrds_crspm"
   ]
  },
  {
   "cell_type": "code",
   "execution_count": null,
   "metadata": {},
   "outputs": [],
   "source": [
    "#|exports\n",
    "from typing import List\n",
    "import os\n",
    "\n",
    "import pandas as pd\n",
    "import numpy as np\n",
    "import wrds\n",
    "\n",
    "import pandasmore as pdm\n",
    "from finsets import wrds_utils"
   ]
  },
  {
   "cell_type": "code",
   "execution_count": null,
   "metadata": {},
   "outputs": [],
   "source": [
    "#| export\n",
    "def default_raw_vars():\n",
    "    \"\"\"Default variables used in `download` if none are specified. Takes about 2 min to download.\"\"\"\n",
    "    return ['permno','permco','date',\n",
    "            'ret', 'retx', 'shrout', 'prc', \n",
    "            'shrcd', 'exchcd','siccd','ticker','cusip','ncusip']            "
   ]
  },
  {
   "cell_type": "code",
   "execution_count": null,
   "metadata": {},
   "outputs": [
    {
     "name": "stdout",
     "output_type": "stream",
     "text": [
      "['permno', 'permco', 'date', 'ret', 'retx', 'shrout', 'prc', 'shrcd', 'exchcd', 'siccd', 'ticker', 'cusip', 'ncusip']\n"
     ]
    }
   ],
   "source": [
    "print(default_raw_vars())"
   ]
  },
  {
   "cell_type": "code",
   "execution_count": null,
   "metadata": {},
   "outputs": [],
   "source": [
    "#| export\n",
    "def download(vars: List[str]=None, # If None, downloads `default_raw_vars`; else `permno`, `permco`, `date`, and 'exchcd' are added by default\n",
    "             wrds_username: str=None, #If None, looks for WRDS_USERNAME with `os.getenv`, then prompts you if needed\n",
    "             start_date: str=\"01/01/1900\", # Start date in MM/DD/YYYY format\n",
    "             end_date: str=None # End date in MM/DD/YYYY format; if None, defaults to current date             \n",
    "             ) -> pd.DataFrame:\n",
    "    \"\"\"Downloads `vars` from `start_date` to `end_date` from WRDS crsp.msf and crsp.msenames libraries. \n",
    "        Creates `ret_adj` for delisting based on Shumway and Warther (1999) and Johnson and Zhao (2007)\"\"\"\n",
    "\n",
    "    if wrds_username is None:\n",
    "        wrds_username = os.getenv('WRDS_USERNAME')\n",
    "        if wrds_username is None: wrds_username = input(\"Enter your WRDS username: \") \n",
    "\n",
    "    if vars is None: vars = default_raw_vars()\n",
    "    vars = ['permno','permco','date','exchcd'] + [x for x in vars if x not in ['permno','permco','date','exchcd']]\n",
    "\n",
    "    # Figure out which `vars` come from the `msf` table and which come from the `msenames` table and add a. and b. prefixes\n",
    "    db = wrds.Connection(wrds_username = wrds_username)\n",
    "    try:\n",
    "        all_msf_vars = list(db.describe_table('crsp','msf').name)\n",
    "        all_mse_vars = list(db.describe_table('crsp','msenames').name)\n",
    "        my_msf_vars = [f'a.{x}' for x in vars if x in all_msf_vars]\n",
    "        my_mse_vars = [f'b.{x}' for x in vars if (x in all_mse_vars) and (x not in all_msf_vars)]\n",
    "        varlist_string = ','.join(my_msf_vars + my_mse_vars)\n",
    "    except:\n",
    "        raise RuntimeError(\"Something went wrong with a WRDS database connection\")\n",
    "    finally: db.close()\n",
    "\n",
    "    sql_string = f\"\"\"SELECT {varlist_string},  c.dlstcd, c.dlret \n",
    "                        FROM crsp.msf AS a \n",
    "                        LEFT JOIN crsp.msenames AS b\n",
    "                            ON a.permno=b.permno AND b.namedt<=a.date AND a.date<=b.nameendt\n",
    "                        LEFT JOIN crsp.msedelist as c\n",
    "                            ON a.permno=c.permno AND date_trunc('month', a.date) = date_trunc('month', c.dlstdt)                        \n",
    "                            WHERE a.date BETWEEN '{start_date}' AND COALESCE(%(end)s, CURRENT_DATE) \n",
    "                \"\"\"\n",
    "    \n",
    "    df = wrds_utils.download(sql_string, wrds_username=wrds_username, params={'end':end_date})\n",
    "\n",
    "    #Adjust for delisting returns using Shumway and Warther (1999) and Johnson and Zhao (2007)\n",
    "    df['npdelist'] = (df['dlstcd']==500) | df['dlstcd'].between(520,584)\n",
    "    df['dlret'] = np.where(df.dlret.isna() & df.npdelist & df.exchcd.isin([1,2]), -0.35, df.dlret)\n",
    "    df['dlret'] = np.where(df.dlret.isna() & df.npdelist & df.exchcd.isin([3]), -0.55, df.dlret)\n",
    "    df['dlret'] = np.where(df.dlret.notna() & df.dlret < -1, -1, df.dlret)\n",
    "    df['dlret'] = df.dlret.fillna(0)\n",
    "\n",
    "    df['ret_adj'] = (1 + df.ret) * (1 + df.dlret) - 1\n",
    "    df['ret_adj'] = np.where(df.ret_adj.isna() & (df.dlret!=0), df.dlret, df.ret_adj)\n",
    "\n",
    "    return df "
   ]
  },
  {
   "cell_type": "code",
   "execution_count": null,
   "metadata": {},
   "outputs": [
    {
     "name": "stdout",
     "output_type": "stream",
     "text": [
      "Loading library list...\n",
      "Done\n",
      "Approximately 4922867 rows in crsp.msf.\n",
      "Approximately 111623 rows in crsp.msenames.\n",
      "Loading library list...\n",
      "Done\n"
     ]
    }
   ],
   "source": [
    "#| eval: false\n",
    "raw = download(start_date='01/01/2021')"
   ]
  },
  {
   "cell_type": "code",
   "execution_count": null,
   "metadata": {},
   "outputs": [
    {
     "data": {
      "text/html": [
       "<div>\n",
       "<style scoped>\n",
       "    .dataframe tbody tr th:only-of-type {\n",
       "        vertical-align: middle;\n",
       "    }\n",
       "\n",
       "    .dataframe tbody tr th {\n",
       "        vertical-align: top;\n",
       "    }\n",
       "\n",
       "    .dataframe thead th {\n",
       "        text-align: right;\n",
       "    }\n",
       "</style>\n",
       "<table border=\"1\" class=\"dataframe\">\n",
       "  <thead>\n",
       "    <tr style=\"text-align: right;\">\n",
       "      <th></th>\n",
       "      <th>permno</th>\n",
       "      <th>permco</th>\n",
       "      <th>date</th>\n",
       "      <th>ret</th>\n",
       "      <th>retx</th>\n",
       "      <th>shrout</th>\n",
       "      <th>prc</th>\n",
       "      <th>cusip</th>\n",
       "      <th>exchcd</th>\n",
       "      <th>shrcd</th>\n",
       "      <th>siccd</th>\n",
       "      <th>ticker</th>\n",
       "      <th>ncusip</th>\n",
       "      <th>dlstcd</th>\n",
       "      <th>dlret</th>\n",
       "      <th>npdelist</th>\n",
       "      <th>ret_adj</th>\n",
       "    </tr>\n",
       "  </thead>\n",
       "  <tbody>\n",
       "    <tr>\n",
       "      <th>0</th>\n",
       "      <td>10026.0</td>\n",
       "      <td>7976.0</td>\n",
       "      <td>2021-01-29</td>\n",
       "      <td>-0.017442</td>\n",
       "      <td>-0.017442</td>\n",
       "      <td>18980.0</td>\n",
       "      <td>152.660004</td>\n",
       "      <td>46603210</td>\n",
       "      <td>3.0</td>\n",
       "      <td>11.0</td>\n",
       "      <td>2052.0</td>\n",
       "      <td>JJSF</td>\n",
       "      <td>46603210</td>\n",
       "      <td>NaN</td>\n",
       "      <td>0.0</td>\n",
       "      <td>False</td>\n",
       "      <td>-0.017442</td>\n",
       "    </tr>\n",
       "    <tr>\n",
       "      <th>1</th>\n",
       "      <td>10028.0</td>\n",
       "      <td>7978.0</td>\n",
       "      <td>2021-01-29</td>\n",
       "      <td>0.203846</td>\n",
       "      <td>0.203846</td>\n",
       "      <td>26925.0</td>\n",
       "      <td>6.260000</td>\n",
       "      <td>29402E10</td>\n",
       "      <td>2.0</td>\n",
       "      <td>11.0</td>\n",
       "      <td>5094.0</td>\n",
       "      <td>ELA</td>\n",
       "      <td>29402E10</td>\n",
       "      <td>NaN</td>\n",
       "      <td>0.0</td>\n",
       "      <td>False</td>\n",
       "      <td>0.203846</td>\n",
       "    </tr>\n",
       "    <tr>\n",
       "      <th>2</th>\n",
       "      <td>10032.0</td>\n",
       "      <td>7980.0</td>\n",
       "      <td>2021-01-29</td>\n",
       "      <td>-0.016494</td>\n",
       "      <td>-0.016494</td>\n",
       "      <td>28766.0</td>\n",
       "      <td>76.919998</td>\n",
       "      <td>72913210</td>\n",
       "      <td>3.0</td>\n",
       "      <td>11.0</td>\n",
       "      <td>3670.0</td>\n",
       "      <td>PLXS</td>\n",
       "      <td>72913210</td>\n",
       "      <td>NaN</td>\n",
       "      <td>0.0</td>\n",
       "      <td>False</td>\n",
       "      <td>-0.016494</td>\n",
       "    </tr>\n",
       "    <tr>\n",
       "      <th>3</th>\n",
       "      <td>10044.0</td>\n",
       "      <td>7992.0</td>\n",
       "      <td>2021-01-29</td>\n",
       "      <td>0.071605</td>\n",
       "      <td>0.071605</td>\n",
       "      <td>6074.0</td>\n",
       "      <td>4.340000</td>\n",
       "      <td>77467X10</td>\n",
       "      <td>3.0</td>\n",
       "      <td>11.0</td>\n",
       "      <td>2060.0</td>\n",
       "      <td>RMCF</td>\n",
       "      <td>77467X10</td>\n",
       "      <td>NaN</td>\n",
       "      <td>0.0</td>\n",
       "      <td>False</td>\n",
       "      <td>0.071605</td>\n",
       "    </tr>\n",
       "    <tr>\n",
       "      <th>4</th>\n",
       "      <td>10051.0</td>\n",
       "      <td>7999.0</td>\n",
       "      <td>2021-01-29</td>\n",
       "      <td>-0.068213</td>\n",
       "      <td>-0.068213</td>\n",
       "      <td>38109.0</td>\n",
       "      <td>20.490000</td>\n",
       "      <td>41043F20</td>\n",
       "      <td>1.0</td>\n",
       "      <td>11.0</td>\n",
       "      <td>4813.0</td>\n",
       "      <td>HNGR</td>\n",
       "      <td>41043F20</td>\n",
       "      <td>NaN</td>\n",
       "      <td>0.0</td>\n",
       "      <td>False</td>\n",
       "      <td>-0.068213</td>\n",
       "    </tr>\n",
       "  </tbody>\n",
       "</table>\n",
       "</div>"
      ],
      "text/plain": [
       "    permno  permco        date       ret      retx   shrout         prc  \\\n",
       "0  10026.0  7976.0  2021-01-29 -0.017442 -0.017442  18980.0  152.660004   \n",
       "1  10028.0  7978.0  2021-01-29  0.203846  0.203846  26925.0    6.260000   \n",
       "2  10032.0  7980.0  2021-01-29 -0.016494 -0.016494  28766.0   76.919998   \n",
       "3  10044.0  7992.0  2021-01-29  0.071605  0.071605   6074.0    4.340000   \n",
       "4  10051.0  7999.0  2021-01-29 -0.068213 -0.068213  38109.0   20.490000   \n",
       "\n",
       "      cusip  exchcd  shrcd   siccd ticker    ncusip  dlstcd  dlret  npdelist  \\\n",
       "0  46603210     3.0   11.0  2052.0   JJSF  46603210     NaN    0.0     False   \n",
       "1  29402E10     2.0   11.0  5094.0    ELA  29402E10     NaN    0.0     False   \n",
       "2  72913210     3.0   11.0  3670.0   PLXS  72913210     NaN    0.0     False   \n",
       "3  77467X10     3.0   11.0  2060.0   RMCF  77467X10     NaN    0.0     False   \n",
       "4  41043F20     1.0   11.0  4813.0   HNGR  41043F20     NaN    0.0     False   \n",
       "\n",
       "    ret_adj  \n",
       "0 -0.017442  \n",
       "1  0.203846  \n",
       "2 -0.016494  \n",
       "3  0.071605  \n",
       "4 -0.068213  "
      ]
     },
     "execution_count": null,
     "metadata": {},
     "output_type": "execute_result"
    }
   ],
   "source": [
    "#| eval: false\n",
    "raw.head()"
   ]
  },
  {
   "cell_type": "code",
   "execution_count": null,
   "metadata": {},
   "outputs": [],
   "source": [
    "#| export\n",
    "def clean(df: pd.DataFrame=None, # If None, downloads `vars` using `download` function; else, must contain `permno` and `date` columns\n",
    "          vars: List[str]=None, # If None, downloads `default_raw_vars`\n",
    "          wrds_username: str=None, #If None, looks for WRDS_USERNAME with `os.getenv`, then prompts you if needed\n",
    "          start_date: str=\"01/01/1900\", # Start date in MM/DD/YYYY format\n",
    "          end_date: str=None, # End date. Default is current date          \n",
    "          clean_kwargs: dict={}, # Params to pass to `pdm.setup_panel` other than `panel_ids`, `time_var`, and `freq`\n",
    "          ) -> pd.DataFrame:\n",
    "    \"\"\"Applies `pandasmore.setup_panel` to `df`. If `df` is None, downloads `vars` using `download` function.\"\"\"\n",
    "\n",
    "    if df is None: df = download(vars=vars, wrds_username=wrds_username, start_date=start_date, end_date=end_date)\n",
    "    df = pdm.setup_panel(df, panel_ids='permno', time_var='date', freq='M', **clean_kwargs)\n",
    "    return df "
   ]
  },
  {
   "cell_type": "code",
   "execution_count": null,
   "metadata": {},
   "outputs": [],
   "source": [
    "#| eval: false\n",
    "df = clean(df=raw)"
   ]
  },
  {
   "cell_type": "code",
   "execution_count": null,
   "metadata": {},
   "outputs": [
    {
     "data": {
      "text/html": [
       "<div>\n",
       "<style scoped>\n",
       "    .dataframe tbody tr th:only-of-type {\n",
       "        vertical-align: middle;\n",
       "    }\n",
       "\n",
       "    .dataframe tbody tr th {\n",
       "        vertical-align: top;\n",
       "    }\n",
       "\n",
       "    .dataframe thead th {\n",
       "        text-align: right;\n",
       "    }\n",
       "</style>\n",
       "<table border=\"1\" class=\"dataframe\">\n",
       "  <thead>\n",
       "    <tr style=\"text-align: right;\">\n",
       "      <th></th>\n",
       "      <th></th>\n",
       "      <th>date</th>\n",
       "      <th>dtdate</th>\n",
       "      <th>permco</th>\n",
       "      <th>ret</th>\n",
       "      <th>retx</th>\n",
       "      <th>shrout</th>\n",
       "      <th>prc</th>\n",
       "      <th>cusip</th>\n",
       "      <th>exchcd</th>\n",
       "      <th>shrcd</th>\n",
       "      <th>siccd</th>\n",
       "      <th>ticker</th>\n",
       "      <th>ncusip</th>\n",
       "      <th>dlstcd</th>\n",
       "      <th>dlret</th>\n",
       "      <th>npdelist</th>\n",
       "      <th>ret_adj</th>\n",
       "    </tr>\n",
       "    <tr>\n",
       "      <th>permno</th>\n",
       "      <th>Mdate</th>\n",
       "      <th></th>\n",
       "      <th></th>\n",
       "      <th></th>\n",
       "      <th></th>\n",
       "      <th></th>\n",
       "      <th></th>\n",
       "      <th></th>\n",
       "      <th></th>\n",
       "      <th></th>\n",
       "      <th></th>\n",
       "      <th></th>\n",
       "      <th></th>\n",
       "      <th></th>\n",
       "      <th></th>\n",
       "      <th></th>\n",
       "      <th></th>\n",
       "      <th></th>\n",
       "    </tr>\n",
       "  </thead>\n",
       "  <tbody>\n",
       "  </tbody>\n",
       "</table>\n",
       "</div>"
      ],
      "text/plain": [
       "Empty DataFrame\n",
       "Columns: [date, dtdate, permco, ret, retx, shrout, prc, cusip, exchcd, shrcd, siccd, ticker, ncusip, dlstcd, dlret, npdelist, ret_adj]\n",
       "Index: []"
      ]
     },
     "execution_count": null,
     "metadata": {},
     "output_type": "execute_result"
    }
   ],
   "source": [
    "#| eval: false\n",
    "df.head(0)"
   ]
  },
  {
   "cell_type": "code",
   "execution_count": null,
   "metadata": {},
   "outputs": [
    {
     "name": "stdout",
     "output_type": "stream",
     "text": [
      "Loading library list...\n",
      "Done\n",
      "Approximately 4922867 rows in crsp.msf.\n",
      "Approximately 111623 rows in crsp.msenames.\n",
      "Loading library list...\n",
      "Done\n"
     ]
    }
   ],
   "source": [
    "#| eval: false\n",
    "df = clean(vars=['ret','shrcd','exchcd'], start_date='01/01/2020', end_date='12/31/2020')"
   ]
  },
  {
   "cell_type": "code",
   "execution_count": null,
   "metadata": {},
   "outputs": [
    {
     "data": {
      "text/html": [
       "<div>\n",
       "<style scoped>\n",
       "    .dataframe tbody tr th:only-of-type {\n",
       "        vertical-align: middle;\n",
       "    }\n",
       "\n",
       "    .dataframe tbody tr th {\n",
       "        vertical-align: top;\n",
       "    }\n",
       "\n",
       "    .dataframe thead th {\n",
       "        text-align: right;\n",
       "    }\n",
       "</style>\n",
       "<table border=\"1\" class=\"dataframe\">\n",
       "  <thead>\n",
       "    <tr style=\"text-align: right;\">\n",
       "      <th></th>\n",
       "      <th></th>\n",
       "      <th>date</th>\n",
       "      <th>dtdate</th>\n",
       "      <th>permco</th>\n",
       "      <th>ret</th>\n",
       "      <th>exchcd</th>\n",
       "      <th>shrcd</th>\n",
       "      <th>dlstcd</th>\n",
       "      <th>dlret</th>\n",
       "      <th>npdelist</th>\n",
       "      <th>ret_adj</th>\n",
       "    </tr>\n",
       "    <tr>\n",
       "      <th>permno</th>\n",
       "      <th>Mdate</th>\n",
       "      <th></th>\n",
       "      <th></th>\n",
       "      <th></th>\n",
       "      <th></th>\n",
       "      <th></th>\n",
       "      <th></th>\n",
       "      <th></th>\n",
       "      <th></th>\n",
       "      <th></th>\n",
       "      <th></th>\n",
       "    </tr>\n",
       "  </thead>\n",
       "  <tbody>\n",
       "  </tbody>\n",
       "</table>\n",
       "</div>"
      ],
      "text/plain": [
       "Empty DataFrame\n",
       "Columns: [date, dtdate, permco, ret, exchcd, shrcd, dlstcd, dlret, npdelist, ret_adj]\n",
       "Index: []"
      ]
     },
     "execution_count": null,
     "metadata": {},
     "output_type": "execute_result"
    }
   ],
   "source": [
    "#| eval: false\n",
    "df.head(0)"
   ]
  },
  {
   "cell_type": "code",
   "execution_count": null,
   "metadata": {},
   "outputs": [],
   "source": [
    "#| hide\n",
    "import nbdev; nbdev.nbdev_export()"
   ]
  }
 ],
 "metadata": {
  "kernelspec": {
   "display_name": "python3",
   "language": "python",
   "name": "python3"
  }
 },
 "nbformat": 4,
 "nbformat_minor": 2
}
