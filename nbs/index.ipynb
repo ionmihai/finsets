{
 "cells": [
  {
   "cell_type": "code",
   "execution_count": null,
   "metadata": {},
   "outputs": [],
   "source": [
    "#| hide\n",
    "# run the following line to clean up README.md file every time you change this index (otherwise dataframes are not rendered correctly)\n",
    "# sed -i \"/<style scoped>/,/<\\/style>/d\" README.md "
   ]
  },
  {
   "attachments": {},
   "cell_type": "markdown",
   "metadata": {},
   "source": [
    "# finsets\n",
    "\n",
    "> Download and process datasets commonly used in finance research"
   ]
  },
  {
   "attachments": {},
   "cell_type": "markdown",
   "metadata": {},
   "source": [
    "Please visit the [documentation site](https://ionmihai.github.io/finsets/).\n",
    "\n",
    "The GitHub page is [here](https://github.com/ionmihai/finsets)."
   ]
  },
  {
   "attachments": {},
   "cell_type": "markdown",
   "metadata": {},
   "source": [
    "## Install"
   ]
  },
  {
   "attachments": {},
   "cell_type": "markdown",
   "metadata": {},
   "source": [
    "```sh\n",
    "pip install finsets\n",
    "```"
   ]
  },
  {
   "attachments": {},
   "cell_type": "markdown",
   "metadata": {},
   "source": [
    "## How to use"
   ]
  },
  {
   "cell_type": "code",
   "execution_count": null,
   "metadata": {},
   "outputs": [],
   "source": [
    "import finsets as fds\n",
    "import wrds"
   ]
  },
  {
   "attachments": {},
   "cell_type": "markdown",
   "metadata": {},
   "source": [
    "## WRDS"
   ]
  },
  {
   "attachments": {},
   "cell_type": "markdown",
   "metadata": {},
   "source": [
    "Before you use any of the `wrds_` modules, you need to create a `pgpass` with your WRDS credentials. To do that, run"
   ]
  },
  {
   "cell_type": "code",
   "execution_count": null,
   "metadata": {},
   "outputs": [],
   "source": [
    "#| eval: false\n",
    "db = wrds.Connection()"
   ]
  },
  {
   "attachments": {},
   "cell_type": "markdown",
   "metadata": {},
   "source": [
    "This will prompt you for your WRDS username and password. \n",
    "\n",
    "After you enter your credentials, if you don't have a pgpass file already set up, it will ask you if you want to do that. Hit `y` and it will be automatically created for you. After this, you will never have to input your WRDS password. \n",
    "\n",
    "You will still have to supply your WRDS username to functions that retrieve data from WRDS (all of them have a `wrds_username` parameter). You you don't want to supply the username either, save it under a `WRDS_USERNAME` environment variable. It will get fetched automatically with `os.getenv(\"WRDS_USERNAME\")`.\n",
    "\n",
    "The functions in the `wrds_` modules will close database connections to WRDS automatically. However, if you open a connection manually, as above (with `wrds.Connection()`) make sure you remember to close that connection. In our example above:"
   ]
  },
  {
   "cell_type": "code",
   "execution_count": null,
   "metadata": {},
   "outputs": [],
   "source": [
    "#| eval: false\n",
    "db.close()"
   ]
  },
  {
   "attachments": {},
   "cell_type": "markdown",
   "metadata": {},
   "source": [
    "Check the `wrds_utils` module for an introduction to some of the main utilities that come with the `wrds` package."
   ]
  },
  {
   "attachments": {},
   "cell_type": "markdown",
   "metadata": {},
   "source": [
    "## FRED"
   ]
  },
  {
   "attachments": {},
   "cell_type": "markdown",
   "metadata": {},
   "source": [
    "To use the functions in the `fred` module, you'll need an API key from the St. Louis FRED. \n",
    "\n",
    "Get one [here](https://fred.stlouisfed.org/docs/api/api_key.html) and store it in your environment variables under the name `FRED_API_KEY` \n",
    "\n",
    "Alternatively, you can supply the API key directly as the `api_key` parameter in each function in the `fred` module."
   ]
  }
 ],
 "metadata": {
  "kernelspec": {
   "display_name": "python3",
   "language": "python",
   "name": "python3"
  }
 },
 "nbformat": 4,
 "nbformat_minor": 4
}
