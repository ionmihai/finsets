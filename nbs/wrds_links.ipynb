{
 "cells": [
  {
   "attachments": {},
   "cell_type": "markdown",
   "metadata": {},
   "source": [
    "# wrds_links\n",
    "\n",
    "> WRDS Concordances"
   ]
  },
  {
   "cell_type": "code",
   "execution_count": null,
   "metadata": {},
   "outputs": [],
   "source": [
    "#| default_exp wrds_links"
   ]
  },
  {
   "cell_type": "code",
   "execution_count": null,
   "metadata": {},
   "outputs": [],
   "source": [
    "#|exports\n",
    "from __future__ import annotations\n",
    "from typing import List, Dict, Tuple, Callable\n",
    "import os\n",
    "\n",
    "import pandas as pd\n",
    "import numpy as np\n",
    "import wrds \n",
    "\n",
    "from finsets import wrds_utils"
   ]
  },
  {
   "cell_type": "code",
   "execution_count": null,
   "metadata": {},
   "outputs": [],
   "source": [
    "#| export\n",
    "def gvkey_permno(wrds_username: str=None,\n",
    "                 ) -> pd.DataFrame:\n",
    "    \n",
    "    sql_string=f\"\"\"select gvkey, lpermno as permno, linktype, linkprim, linkdt, linkenddt\n",
    "                    from crsp.ccmxpf_linktable\n",
    "                    where substr(linktype,1,1)='L' and (linkprim ='C' or linkprim='P')\"\"\"\n",
    "    \n",
    "    df = wrds_utils.download(sql_string, wrds_username)\n",
    "    df['linkdt'] = pd.to_datetime(df['linkdt'])\n",
    "    df['linkenddt'] = pd.to_datetime(df['linkenddt'])\n",
    "    df['linkenddt'] = df['linkenddt'].fillna(pd.to_datetime('today'))\n",
    "    return df"
   ]
  },
  {
   "cell_type": "code",
   "execution_count": null,
   "metadata": {},
   "outputs": [],
   "source": []
  },
  {
   "cell_type": "code",
   "execution_count": null,
   "metadata": {},
   "outputs": [],
   "source": []
  },
  {
   "cell_type": "code",
   "execution_count": null,
   "metadata": {},
   "outputs": [],
   "source": [
    "#| hide\n",
    "import nbdev; nbdev.nbdev_export()"
   ]
  }
 ],
 "metadata": {
  "kernelspec": {
   "display_name": "python3",
   "language": "python",
   "name": "python3"
  }
 },
 "nbformat": 4,
 "nbformat_minor": 2
}
