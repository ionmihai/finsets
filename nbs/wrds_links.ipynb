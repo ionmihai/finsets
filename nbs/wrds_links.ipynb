{
 "cells": [
  {
   "attachments": {},
   "cell_type": "markdown",
   "metadata": {},
   "source": [
    "# wrds_links\n",
    "\n",
    "> WRDS Concordances"
   ]
  },
  {
   "cell_type": "code",
   "execution_count": null,
   "metadata": {},
   "outputs": [],
   "source": [
    "#| default_exp wrds_links"
   ]
  },
  {
   "cell_type": "code",
   "execution_count": null,
   "metadata": {},
   "outputs": [],
   "source": [
    "#|exports\n",
    "from __future__ import annotations\n",
    "from typing import List, Dict, Tuple, Callable\n",
    "import os\n",
    "\n",
    "import pandas as pd\n",
    "import numpy as np\n",
    "import wrds \n",
    "\n",
    "from finsets import wrds_utils"
   ]
  },
  {
   "cell_type": "code",
   "execution_count": null,
   "metadata": {},
   "outputs": [],
   "source": [
    "#| export\n",
    "def gvkey_permno(wrds_username: str=None,\n",
    "                 ) -> pd.DataFrame:\n",
    "    \n",
    "    sql_string=f\"\"\"select gvkey, lpermno as permno, linktype, linkprim, linkdt, linkenddt\n",
    "                    from crsp.ccmxpf_linktable\n",
    "                    where substr(linktype,1,1)='L' and (linkprim ='C' or linkprim='P')\"\"\"\n",
    "    \n",
    "    df = wrds_utils.download(sql_string, wrds_username)\n",
    "    df['linkdt'] = pd.to_datetime(df['linkdt'])\n",
    "    df['linkenddt'] = pd.to_datetime(df['linkenddt'])\n",
    "    df['linkenddt'] = df['linkenddt'].fillna(pd.to_datetime('today'))\n",
    "    return df"
   ]
  },
  {
   "cell_type": "code",
   "execution_count": null,
   "metadata": {},
   "outputs": [
    {
     "name": "stdout",
     "output_type": "stream",
     "text": [
      "Loading library list...\n",
      "Done\n"
     ]
    },
    {
     "data": {
      "text/html": [
       "<div>\n",
       "<style scoped>\n",
       "    .dataframe tbody tr th:only-of-type {\n",
       "        vertical-align: middle;\n",
       "    }\n",
       "\n",
       "    .dataframe tbody tr th {\n",
       "        vertical-align: top;\n",
       "    }\n",
       "\n",
       "    .dataframe thead th {\n",
       "        text-align: right;\n",
       "    }\n",
       "</style>\n",
       "<table border=\"1\" class=\"dataframe\">\n",
       "  <thead>\n",
       "    <tr style=\"text-align: right;\">\n",
       "      <th></th>\n",
       "      <th>gvkey</th>\n",
       "      <th>permno</th>\n",
       "      <th>linktype</th>\n",
       "      <th>linkprim</th>\n",
       "      <th>linkdt</th>\n",
       "      <th>linkenddt</th>\n",
       "    </tr>\n",
       "  </thead>\n",
       "  <tbody>\n",
       "    <tr>\n",
       "      <th>0</th>\n",
       "      <td>001000</td>\n",
       "      <td>25881.0</td>\n",
       "      <td>LU</td>\n",
       "      <td>P</td>\n",
       "      <td>1970-11-13</td>\n",
       "      <td>1978-06-30 00:00:00.000000</td>\n",
       "    </tr>\n",
       "    <tr>\n",
       "      <th>1</th>\n",
       "      <td>001001</td>\n",
       "      <td>10015.0</td>\n",
       "      <td>LU</td>\n",
       "      <td>P</td>\n",
       "      <td>1983-09-20</td>\n",
       "      <td>1986-07-31 00:00:00.000000</td>\n",
       "    </tr>\n",
       "    <tr>\n",
       "      <th>2</th>\n",
       "      <td>001002</td>\n",
       "      <td>10023.0</td>\n",
       "      <td>LC</td>\n",
       "      <td>C</td>\n",
       "      <td>1972-12-14</td>\n",
       "      <td>1973-06-05 00:00:00.000000</td>\n",
       "    </tr>\n",
       "    <tr>\n",
       "      <th>3</th>\n",
       "      <td>001003</td>\n",
       "      <td>10031.0</td>\n",
       "      <td>LU</td>\n",
       "      <td>C</td>\n",
       "      <td>1983-12-07</td>\n",
       "      <td>1989-08-16 00:00:00.000000</td>\n",
       "    </tr>\n",
       "    <tr>\n",
       "      <th>4</th>\n",
       "      <td>001004</td>\n",
       "      <td>54594.0</td>\n",
       "      <td>LU</td>\n",
       "      <td>P</td>\n",
       "      <td>1972-04-24</td>\n",
       "      <td>2023-06-25 08:30:23.381391</td>\n",
       "    </tr>\n",
       "  </tbody>\n",
       "</table>\n",
       "</div>"
      ],
      "text/plain": [
       "    gvkey   permno linktype linkprim     linkdt                  linkenddt\n",
       "0  001000  25881.0       LU        P 1970-11-13 1978-06-30 00:00:00.000000\n",
       "1  001001  10015.0       LU        P 1983-09-20 1986-07-31 00:00:00.000000\n",
       "2  001002  10023.0       LC        C 1972-12-14 1973-06-05 00:00:00.000000\n",
       "3  001003  10031.0       LU        C 1983-12-07 1989-08-16 00:00:00.000000\n",
       "4  001004  54594.0       LU        P 1972-04-24 2023-06-25 08:30:23.381391"
      ]
     },
     "execution_count": null,
     "metadata": {},
     "output_type": "execute_result"
    }
   ],
   "source": [
    "#| eval: false\n",
    "#| hide\n",
    "df = gvkey_permno()\n",
    "df.head()"
   ]
  },
  {
   "cell_type": "code",
   "execution_count": null,
   "metadata": {},
   "outputs": [],
   "source": [
    "#| export\n",
    "def merge_permno_into_gvkey(dset_using_gvkey: pd.DataFrame, # DataFrame using `gvkey` \n",
    "          date_var: str='datadate', # Name of date variable in `dset_using_gvkey`\n",
    "          date_var_format: str=\"%Y-%m-%d\", # Format of `date_var` to be passed to `pd.to_datetime`\n",
    "          gvkey_permno_link: pd.DataFrame=None, # Concordance DataFrame; will get downloaded if None\n",
    "          ) -> pd.DataFrame:\n",
    "    \"\"\"Merges `permno` into `dset_using_gvkey` using `gvkey_permno_link`.\"\"\"\n",
    "    \n",
    "    if gvkey_permno_link is None: gvkey_permno_link = gvkey_permno()\n",
    "    df = dset_using_gvkey.merge(gvkey_permno_link, how='left', on=['gvkey'])\n",
    "    df = df.dropna(subset=[date_var])\n",
    "\n",
    "    df['dtdate'] = pd.to_datetime(df[date_var], format=date_var_format)    \n",
    "    df = df[(df['dtdate']>=df['linkdt']) & (df['dtdate']<=df['linkenddt'])].copy()\n",
    "    df = df.drop(columns = ['linktype', 'linkprim', 'linkdt', 'linkenddt'])\n",
    "    return df"
   ]
  },
  {
   "cell_type": "code",
   "execution_count": null,
   "metadata": {},
   "outputs": [],
   "source": [
    "#| hide\n",
    "import nbdev; nbdev.nbdev_export()"
   ]
  }
 ],
 "metadata": {
  "kernelspec": {
   "display_name": "python3",
   "language": "python",
   "name": "python3"
  }
 },
 "nbformat": 4,
 "nbformat_minor": 2
}
