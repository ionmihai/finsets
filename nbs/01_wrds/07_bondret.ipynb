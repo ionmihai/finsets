{
 "cells": [
  {
   "cell_type": "markdown",
   "metadata": {},
   "source": [
    "# bondret\n",
    "\n",
    "> Retrieve and process data from WRDS Bond Returns File "
   ]
  },
  {
   "cell_type": "markdown",
   "metadata": {},
   "source": [
    "Since this is a proprietary dataset, in the documentation below, I can not show any of the data that is being retrieved/generated (will show only column names)."
   ]
  },
  {
   "cell_type": "code",
   "execution_count": null,
   "metadata": {},
   "outputs": [],
   "source": [
    "#| default_exp wrds.bondret"
   ]
  },
  {
   "cell_type": "code",
   "execution_count": null,
   "metadata": {},
   "outputs": [],
   "source": [
    "#|exports\n",
    "from __future__ import annotations\n",
    "from typing import List\n",
    "\n",
    "import pandas as pd\n",
    "import numpy as np\n",
    "\n",
    "import pandasmore as pdm\n",
    "from finsets.wrds import wrds_api"
   ]
  },
  {
   "cell_type": "code",
   "execution_count": null,
   "metadata": {},
   "outputs": [],
   "source": [
    "#| exports\n",
    "PROVIDER = 'Wharton Research Data Services (WRDS)'\n",
    "URL = 'https://wrds-www.wharton.upenn.edu/pages/get-data/wrds-bond-returns/'\n",
    "LIBRARY = 'wrdsapps'\n",
    "TABLE = 'bondret'\n",
    "LINK_TABLE = 'bondcrsp_link'\n",
    "FREQ = 'M'\n",
    "MIN_YEAR = 2002\n",
    "MAX_YEAR = None\n",
    "ENTITY_ID_IN_RAW_DSET = 'cusip'\n",
    "ENTITY_ID_IN_CLEAN_DSET = 'permno'\n",
    "TIME_VAR_IN_RAW_DSET = 'date'\n",
    "TIME_VAR_IN_CLEAN_DSET = f'{FREQ}date'"
   ]
  },
  {
   "cell_type": "code",
   "execution_count": null,
   "metadata": {},
   "outputs": [],
   "source": [
    "#| export\n",
    "def list_all_vars() -> pd.DataFrame:\n",
    "    \"Collects names of all available variables from WRDS f`{LIBRARY}.{TABLE}`.\"\n",
    "\n",
    "    try:\n",
    "        db = wrds_api.Connection()\n",
    "        df = db.describe_table(LIBRARY,TABLE).assign(wrds_library=LIBRARY, wrds_table=TABLE)\n",
    "    finally:\n",
    "        db.close()\n",
    "\n",
    "    return df[['name','type','wrds_library','wrds_table']].copy()"
   ]
  },
  {
   "cell_type": "code",
   "execution_count": null,
   "metadata": {},
   "outputs": [],
   "source": [
    "#| eval: false\n",
    "all_vars = list_all_vars()"
   ]
  },
  {
   "cell_type": "code",
   "execution_count": null,
   "metadata": {},
   "outputs": [
    {
     "data": {
      "text/html": [
       "<div>\n",
       "<style scoped>\n",
       "    .dataframe tbody tr th:only-of-type {\n",
       "        vertical-align: middle;\n",
       "    }\n",
       "\n",
       "    .dataframe tbody tr th {\n",
       "        vertical-align: top;\n",
       "    }\n",
       "\n",
       "    .dataframe thead th {\n",
       "        text-align: right;\n",
       "    }\n",
       "</style>\n",
       "<table border=\"1\" class=\"dataframe\">\n",
       "  <thead>\n",
       "    <tr style=\"text-align: right;\">\n",
       "      <th></th>\n",
       "      <th>name</th>\n",
       "      <th>type</th>\n",
       "      <th>wrds_library</th>\n",
       "      <th>wrds_table</th>\n",
       "    </tr>\n",
       "  </thead>\n",
       "  <tbody>\n",
       "    <tr>\n",
       "      <th>0</th>\n",
       "      <td>date</td>\n",
       "      <td>DATE</td>\n",
       "      <td>wrdsapps</td>\n",
       "      <td>bondret</td>\n",
       "    </tr>\n",
       "    <tr>\n",
       "      <th>1</th>\n",
       "      <td>issue_id</td>\n",
       "      <td>DOUBLE_PRECISION</td>\n",
       "      <td>wrdsapps</td>\n",
       "      <td>bondret</td>\n",
       "    </tr>\n",
       "    <tr>\n",
       "      <th>2</th>\n",
       "      <td>cusip</td>\n",
       "      <td>VARCHAR(9)</td>\n",
       "      <td>wrdsapps</td>\n",
       "      <td>bondret</td>\n",
       "    </tr>\n",
       "    <tr>\n",
       "      <th>3</th>\n",
       "      <td>bond_sym_id</td>\n",
       "      <td>VARCHAR(14)</td>\n",
       "      <td>wrdsapps</td>\n",
       "      <td>bondret</td>\n",
       "    </tr>\n",
       "    <tr>\n",
       "      <th>4</th>\n",
       "      <td>bsym</td>\n",
       "      <td>VARCHAR(12)</td>\n",
       "      <td>wrdsapps</td>\n",
       "      <td>bondret</td>\n",
       "    </tr>\n",
       "  </tbody>\n",
       "</table>\n",
       "</div>"
      ],
      "text/plain": [
       "          name              type wrds_library wrds_table\n",
       "0         date              DATE     wrdsapps    bondret\n",
       "1     issue_id  DOUBLE_PRECISION     wrdsapps    bondret\n",
       "2        cusip        VARCHAR(9)     wrdsapps    bondret\n",
       "3  bond_sym_id       VARCHAR(14)     wrdsapps    bondret\n",
       "4         bsym       VARCHAR(12)     wrdsapps    bondret"
      ]
     },
     "execution_count": null,
     "metadata": {},
     "output_type": "execute_result"
    }
   ],
   "source": [
    "#| eval: false\n",
    "all_vars.head()"
   ]
  },
  {
   "cell_type": "code",
   "execution_count": null,
   "metadata": {},
   "outputs": [],
   "source": [
    "#| export\n",
    "def default_raw_vars():\n",
    "    \"\"\"Defines default variables used in `get_raw_data` if none are specified.\"\"\"\n",
    "\n",
    "    return ['date','cusip','maturity', 'ncoups', 'price_eom', 'ret_eom', 'yield', 'coupon', 'remcoups', 'amount_outstanding', 'principal_amt']            "
   ]
  },
  {
   "cell_type": "code",
   "execution_count": null,
   "metadata": {},
   "outputs": [
    {
     "name": "stdout",
     "output_type": "stream",
     "text": [
      "['date', 'cusip', 'maturity', 'ncoups', 'price_eom', 'ret_eom', 'yield', 'coupon', 'remcoups', 'amount_outstanding', 'principal_amt']\n"
     ]
    }
   ],
   "source": [
    "print(default_raw_vars())"
   ]
  },
  {
   "cell_type": "code",
   "execution_count": null,
   "metadata": {},
   "outputs": [],
   "source": [
    "#| export\n",
    "def parse_varlist(vars: List[str]=None,\n",
    "                  required_vars = [],\n",
    "                  ) -> str:\n",
    "    \"\"\"Validates that `vars` are available in `{LIBRARY}.{TABLE}` table and adds a. prefixes to variable names to feed into an SQL query\"\"\"\n",
    "\n",
    "    # Get all available variables and add suffixes needed for the SQL query\n",
    "    suffix_mapping = {TABLE: 'a.'}\n",
    "    all_avail_vars = list_all_vars().drop_duplicates(subset='name',keep='first').copy()\n",
    "    all_avail_vars['w_prefix'] = all_avail_vars.apply(lambda row: suffix_mapping[row['wrds_table']] + row['name'] , axis=1)\n",
    "\n",
    "    if vars == '*': return ','.join(list(all_avail_vars['w_prefix']))\n",
    "    \n",
    "    # Add required vars to requested vars\n",
    "    if vars is None: vars = default_raw_vars()\n",
    "    vars_to_get =  required_vars + [x for x in list(set(vars)) if x not in required_vars]\n",
    "\n",
    "    # Validate variables to be downloaded (make sure that they are in the target database)\n",
    "    invalid_vars = [v for v in vars_to_get if v not in list(all_avail_vars.name)]\n",
    "    if invalid_vars: raise ValueError(f\"These vars are not in the database: {invalid_vars}\") \n",
    "\n",
    "    # Extract information on which variable comes from which wrds table, so we know what prefix to use\n",
    "    vars_to_get = pd.DataFrame(vars_to_get, columns=['name'])\n",
    "    get_these = vars_to_get.merge(all_avail_vars, how = 'left', on = 'name')\n",
    "        \n",
    "    return ','.join(list(get_these['w_prefix']))"
   ]
  },
  {
   "cell_type": "code",
   "execution_count": null,
   "metadata": {},
   "outputs": [
    {
     "data": {
      "text/plain": [
       "'a.price_eom,a.remcoups,a.cusip,a.coupon,a.yield,a.ret_eom,a.amount_outstanding,a.principal_amt,a.maturity,a.date,a.ncoups'"
      ]
     },
     "execution_count": null,
     "metadata": {},
     "output_type": "execute_result"
    }
   ],
   "source": [
    "#| eval: false\n",
    "parse_varlist()"
   ]
  },
  {
   "cell_type": "code",
   "execution_count": null,
   "metadata": {},
   "outputs": [],
   "source": [
    "#| export\n",
    "def get_raw_data(\n",
    "        vars: List[str]=None, # If None, downloads `default_raw_vars`; use '*' to get all available variables\n",
    "        required_vars: List[str]=['cusip','date'], #list of variables that will get downloaded, even if not in `vars`\n",
    "        nrows: int=None, #Number of rows to download. If None, full dataset will be downloaded\n",
    "        start_date: str=None, # Start date in MM/DD/YYYY format\n",
    "        end_date: str=None #End date in MM/DD/YYYY format\n",
    ") -> pd.DataFrame:\n",
    "    \"\"\"Downloads `vars` from `start_date` to `end_date` from WRDS `{LIBRARY}.{TABLE}` library and adds PERMNO and PERMCO\"\"\"\n",
    " \n",
    "    wrds_api.validate_dates([start_date, end_date])\n",
    "    vars = parse_varlist(vars, required_vars=required_vars)\n",
    "\n",
    "    sql_string=f\"\"\"SELECT c.permno as permno, c.permco as permco, {vars}\n",
    "                    FROM {LIBRARY}.{TABLE} AS a\n",
    "                    INNER JOIN {LIBRARY}.{LINK_TABLE} AS c ON a.cusip = c.cusip \n",
    "                    WHERE date BETWEEN c.link_startdt AND COALESCE(c.link_enddt, CURRENT_DATE)\n",
    "                \"\"\"\n",
    "    if start_date is not None: sql_string += r\" AND date >= %(start_date)s\"\n",
    "    if end_date is not None: sql_string += r\" AND date <= %(end_date)s\"\n",
    "    if nrows is not None: sql_string += r\" LIMIT %(nrows)s\"\n",
    "    \n",
    "    return wrds_api.download(sql_string,\n",
    "                             params={'start_date':start_date, 'end_date':end_date, 'nrows':nrows})"
   ]
  },
  {
   "cell_type": "code",
   "execution_count": null,
   "metadata": {},
   "outputs": [],
   "source": [
    "#| eval: false\n",
    "raw = get_raw_data(nrows=1000)"
   ]
  },
  {
   "cell_type": "code",
   "execution_count": null,
   "metadata": {},
   "outputs": [
    {
     "data": {
      "text/html": [
       "<div>\n",
       "<style scoped>\n",
       "    .dataframe tbody tr th:only-of-type {\n",
       "        vertical-align: middle;\n",
       "    }\n",
       "\n",
       "    .dataframe tbody tr th {\n",
       "        vertical-align: top;\n",
       "    }\n",
       "\n",
       "    .dataframe thead th {\n",
       "        text-align: right;\n",
       "    }\n",
       "</style>\n",
       "<table border=\"1\" class=\"dataframe\">\n",
       "  <thead>\n",
       "    <tr style=\"text-align: right;\">\n",
       "      <th></th>\n",
       "      <th>permno</th>\n",
       "      <th>permco</th>\n",
       "      <th>cusip</th>\n",
       "      <th>date</th>\n",
       "      <th>price_eom</th>\n",
       "      <th>remcoups</th>\n",
       "      <th>coupon</th>\n",
       "      <th>yield</th>\n",
       "      <th>ret_eom</th>\n",
       "      <th>amount_outstanding</th>\n",
       "      <th>principal_amt</th>\n",
       "      <th>maturity</th>\n",
       "      <th>ncoups</th>\n",
       "    </tr>\n",
       "  </thead>\n",
       "  <tbody>\n",
       "  </tbody>\n",
       "</table>\n",
       "</div>"
      ],
      "text/plain": [
       "Empty DataFrame\n",
       "Columns: [permno, permco, cusip, date, price_eom, remcoups, coupon, yield, ret_eom, amount_outstanding, principal_amt, maturity, ncoups]\n",
       "Index: []"
      ]
     },
     "execution_count": null,
     "metadata": {},
     "output_type": "execute_result"
    }
   ],
   "source": [
    "#| eval: false\n",
    "raw.head(0)"
   ]
  },
  {
   "cell_type": "code",
   "execution_count": null,
   "metadata": {},
   "outputs": [],
   "source": [
    "#| hide\n",
    "import nbdev; nbdev.nbdev_export()"
   ]
  }
 ],
 "metadata": {
  "kernelspec": {
   "display_name": "python3",
   "language": "python",
   "name": "python3"
  }
 },
 "nbformat": 4,
 "nbformat_minor": 2
}
