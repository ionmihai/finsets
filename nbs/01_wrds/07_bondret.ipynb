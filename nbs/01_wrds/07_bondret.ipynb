{
 "cells": [
  {
   "cell_type": "markdown",
   "metadata": {},
   "source": [
    "# bondret\n",
    "\n",
    "> Retrieve and process data from WRDS Bond Returns File "
   ]
  },
  {
   "cell_type": "markdown",
   "metadata": {},
   "source": [
    "Since this is a proprietary dataset, in the documentation below, I can not show any of the data that is being retrieved/generated (will show only column names)."
   ]
  },
  {
   "cell_type": "code",
   "execution_count": null,
   "metadata": {},
   "outputs": [],
   "source": [
    "#| default_exp wrds.bondret"
   ]
  },
  {
   "cell_type": "code",
   "execution_count": null,
   "metadata": {},
   "outputs": [],
   "source": [
    "#|exports\n",
    "from __future__ import annotations\n",
    "from typing import List\n",
    "\n",
    "import pandas as pd\n",
    "import numpy as np\n",
    "\n",
    "import pandasmore as pdm\n",
    "from finsets.wrds import wrds_api"
   ]
  },
  {
   "cell_type": "code",
   "execution_count": null,
   "metadata": {},
   "outputs": [],
   "source": [
    "#| exports\n",
    "PROVIDER = 'Wharton Research Data Services (WRDS)'\n",
    "URL = 'https://wrds-www.wharton.upenn.edu/pages/get-data/wrds-bond-returns/'\n",
    "LIBRARY = 'wrdsapps'\n",
    "TABLE = 'bondret'\n",
    "LINK_TABLE = 'bondcrsp_link'\n",
    "FREQ = 'M'\n",
    "MIN_YEAR = 2002\n",
    "MAX_YEAR = None\n",
    "ENTITY_ID_IN_RAW_DSET = 'permno'\n",
    "ENTITY_ID_IN_CLEAN_DSET = 'permno'\n",
    "TIME_VAR_IN_RAW_DSET = 'date'\n",
    "TIME_VAR_IN_CLEAN_DSET = f'{FREQ}date'"
   ]
  },
  {
   "cell_type": "code",
   "execution_count": null,
   "metadata": {},
   "outputs": [],
   "source": [
    "#| export\n",
    "def list_all_vars() -> pd.DataFrame:\n",
    "    \"Collects names of all available variables from WRDS f`{LIBRARY}.{TABLE}`.\"\n",
    "\n",
    "    try:\n",
    "        db = wrds_api.Connection()\n",
    "        df = db.describe_table(LIBRARY,TABLE).assign(wrds_library=LIBRARY, wrds_table=TABLE)\n",
    "    finally:\n",
    "        db.close()\n",
    "\n",
    "    return df[['name','type','wrds_library','wrds_table']].copy()"
   ]
  },
  {
   "cell_type": "code",
   "execution_count": null,
   "metadata": {},
   "outputs": [],
   "source": [
    "#| eval: false\n",
    "all_vars = list_all_vars()"
   ]
  },
  {
   "cell_type": "code",
   "execution_count": null,
   "metadata": {},
   "outputs": [
    {
     "data": {
      "text/html": [
       "<div>\n",
       "<style scoped>\n",
       "    .dataframe tbody tr th:only-of-type {\n",
       "        vertical-align: middle;\n",
       "    }\n",
       "\n",
       "    .dataframe tbody tr th {\n",
       "        vertical-align: top;\n",
       "    }\n",
       "\n",
       "    .dataframe thead th {\n",
       "        text-align: right;\n",
       "    }\n",
       "</style>\n",
       "<table border=\"1\" class=\"dataframe\">\n",
       "  <thead>\n",
       "    <tr style=\"text-align: right;\">\n",
       "      <th></th>\n",
       "      <th>name</th>\n",
       "      <th>type</th>\n",
       "      <th>wrds_library</th>\n",
       "      <th>wrds_table</th>\n",
       "    </tr>\n",
       "  </thead>\n",
       "  <tbody>\n",
       "    <tr>\n",
       "      <th>0</th>\n",
       "      <td>date</td>\n",
       "      <td>DATE</td>\n",
       "      <td>wrdsapps</td>\n",
       "      <td>bondret</td>\n",
       "    </tr>\n",
       "    <tr>\n",
       "      <th>1</th>\n",
       "      <td>issue_id</td>\n",
       "      <td>DOUBLE_PRECISION</td>\n",
       "      <td>wrdsapps</td>\n",
       "      <td>bondret</td>\n",
       "    </tr>\n",
       "    <tr>\n",
       "      <th>2</th>\n",
       "      <td>cusip</td>\n",
       "      <td>VARCHAR(9)</td>\n",
       "      <td>wrdsapps</td>\n",
       "      <td>bondret</td>\n",
       "    </tr>\n",
       "    <tr>\n",
       "      <th>3</th>\n",
       "      <td>bond_sym_id</td>\n",
       "      <td>VARCHAR(14)</td>\n",
       "      <td>wrdsapps</td>\n",
       "      <td>bondret</td>\n",
       "    </tr>\n",
       "    <tr>\n",
       "      <th>4</th>\n",
       "      <td>bsym</td>\n",
       "      <td>VARCHAR(12)</td>\n",
       "      <td>wrdsapps</td>\n",
       "      <td>bondret</td>\n",
       "    </tr>\n",
       "  </tbody>\n",
       "</table>\n",
       "</div>"
      ],
      "text/plain": [
       "          name              type wrds_library wrds_table\n",
       "0         date              DATE     wrdsapps    bondret\n",
       "1     issue_id  DOUBLE_PRECISION     wrdsapps    bondret\n",
       "2        cusip        VARCHAR(9)     wrdsapps    bondret\n",
       "3  bond_sym_id       VARCHAR(14)     wrdsapps    bondret\n",
       "4         bsym       VARCHAR(12)     wrdsapps    bondret"
      ]
     },
     "execution_count": null,
     "metadata": {},
     "output_type": "execute_result"
    }
   ],
   "source": [
    "#| eval: false\n",
    "all_vars.head()"
   ]
  },
  {
   "cell_type": "code",
   "execution_count": null,
   "metadata": {},
   "outputs": [],
   "source": [
    "#| export\n",
    "def default_raw_vars():\n",
    "    \"\"\"Defines default variables used in `get_raw_data` if none are specified.\"\"\"\n",
    "\n",
    "    return ['date','cusip','maturity', 'ncoups', 'price_eom', 'ret_eom', 'yield', 'coupon', 'remcoups', 'amount_outstanding', 'principal_amt']            "
   ]
  },
  {
   "cell_type": "code",
   "execution_count": null,
   "metadata": {},
   "outputs": [
    {
     "name": "stdout",
     "output_type": "stream",
     "text": [
      "['date', 'cusip', 'maturity', 'ncoups', 'price_eom', 'ret_eom', 'yield', 'coupon', 'remcoups', 'amount_outstanding', 'principal_amt']\n"
     ]
    }
   ],
   "source": [
    "print(default_raw_vars())"
   ]
  },
  {
   "cell_type": "code",
   "execution_count": null,
   "metadata": {},
   "outputs": [],
   "source": [
    "#| export\n",
    "def parse_varlist(vars: List[str]=None,\n",
    "                  required_vars = [],\n",
    "                  ) -> str:\n",
    "    \"\"\"Validates that `vars` are available in `{LIBRARY}.{TABLE}` table and adds a. prefixes to variable names to feed into an SQL query\"\"\"\n",
    "\n",
    "    # Get all available variables and add suffixes needed for the SQL query\n",
    "    suffix_mapping = {TABLE: 'a.'}\n",
    "    all_avail_vars = list_all_vars().drop_duplicates(subset='name',keep='first').copy()\n",
    "    all_avail_vars['w_prefix'] = all_avail_vars.apply(lambda row: suffix_mapping[row['wrds_table']] + row['name'] , axis=1)\n",
    "\n",
    "    if vars == '*': return ','.join(list(all_avail_vars['w_prefix']))\n",
    "    \n",
    "    # Add required vars to requested vars\n",
    "    if vars is None: vars = default_raw_vars()\n",
    "    vars_to_get =  required_vars + [x for x in list(set(vars)) if x not in required_vars]\n",
    "\n",
    "    # Validate variables to be downloaded (make sure that they are in the target database)\n",
    "    invalid_vars = [v for v in vars_to_get if v not in list(all_avail_vars.name)]\n",
    "    if invalid_vars: raise ValueError(f\"These vars are not in the database: {invalid_vars}\") \n",
    "\n",
    "    # Extract information on which variable comes from which wrds table, so we know what prefix to use\n",
    "    vars_to_get = pd.DataFrame(vars_to_get, columns=['name'])\n",
    "    get_these = vars_to_get.merge(all_avail_vars, how = 'left', on = 'name')\n",
    "        \n",
    "    return ','.join(list(get_these['w_prefix']))"
   ]
  },
  {
   "cell_type": "code",
   "execution_count": null,
   "metadata": {},
   "outputs": [
    {
     "data": {
      "text/plain": [
       "'a.ncoups,a.amount_outstanding,a.yield,a.remcoups,a.ret_eom,a.date,a.cusip,a.principal_amt,a.price_eom,a.coupon,a.maturity'"
      ]
     },
     "execution_count": null,
     "metadata": {},
     "output_type": "execute_result"
    }
   ],
   "source": [
    "#| eval: false\n",
    "parse_varlist()"
   ]
  },
  {
   "cell_type": "code",
   "execution_count": null,
   "metadata": {},
   "outputs": [],
   "source": [
    "#| export\n",
    "def get_raw_data(\n",
    "        vars: List[str]=None, # If None, downloads `default_raw_vars`; use '*' to get all available variables\n",
    "        required_vars: List[str]=['cusip','date'], #list of variables that will get downloaded, even if not in `vars`\n",
    "        nrows: int=None, #Number of rows to download. If None, full dataset will be downloaded\n",
    "        start_date: str=None, # Start date in MM/DD/YYYY format\n",
    "        end_date: str=None #End date in MM/DD/YYYY format\n",
    ") -> pd.DataFrame:\n",
    "    \"\"\"Downloads `vars` from `start_date` to `end_date` from WRDS `{LIBRARY}.{TABLE}` library and adds PERMNO and PERMCO\"\"\"\n",
    " \n",
    "    wrds_api.validate_dates([start_date, end_date])\n",
    "    vars = parse_varlist(vars, required_vars=required_vars)\n",
    "\n",
    "    sql_string=f\"\"\"SELECT c.permno as permno, c.permco as permco, {vars}\n",
    "                    FROM {LIBRARY}.{TABLE} AS a\n",
    "                    INNER JOIN {LIBRARY}.{LINK_TABLE} AS c ON a.cusip = c.cusip \n",
    "                    WHERE date BETWEEN c.link_startdt AND COALESCE(c.link_enddt, CURRENT_DATE)\n",
    "                \"\"\"\n",
    "    if start_date is not None: sql_string += r\" AND date >= %(start_date)s\"\n",
    "    if end_date is not None: sql_string += r\" AND date <= %(end_date)s\"\n",
    "    if nrows is not None: sql_string += r\" LIMIT %(nrows)s\"\n",
    "    \n",
    "    return wrds_api.download(sql_string,\n",
    "                             params={'start_date':start_date, 'end_date':end_date, 'nrows':nrows})"
   ]
  },
  {
   "cell_type": "code",
   "execution_count": null,
   "metadata": {},
   "outputs": [],
   "source": [
    "#| eval: false\n",
    "raw = get_raw_data(nrows=1000)"
   ]
  },
  {
   "cell_type": "code",
   "execution_count": null,
   "metadata": {},
   "outputs": [
    {
     "data": {
      "text/html": [
       "<div>\n",
       "<style scoped>\n",
       "    .dataframe tbody tr th:only-of-type {\n",
       "        vertical-align: middle;\n",
       "    }\n",
       "\n",
       "    .dataframe tbody tr th {\n",
       "        vertical-align: top;\n",
       "    }\n",
       "\n",
       "    .dataframe thead th {\n",
       "        text-align: right;\n",
       "    }\n",
       "</style>\n",
       "<table border=\"1\" class=\"dataframe\">\n",
       "  <thead>\n",
       "    <tr style=\"text-align: right;\">\n",
       "      <th></th>\n",
       "      <th>permno</th>\n",
       "      <th>permco</th>\n",
       "      <th>cusip</th>\n",
       "      <th>date</th>\n",
       "      <th>ncoups</th>\n",
       "      <th>amount_outstanding</th>\n",
       "      <th>yield</th>\n",
       "      <th>remcoups</th>\n",
       "      <th>ret_eom</th>\n",
       "      <th>principal_amt</th>\n",
       "      <th>price_eom</th>\n",
       "      <th>coupon</th>\n",
       "      <th>maturity</th>\n",
       "    </tr>\n",
       "  </thead>\n",
       "  <tbody>\n",
       "  </tbody>\n",
       "</table>\n",
       "</div>"
      ],
      "text/plain": [
       "Empty DataFrame\n",
       "Columns: [permno, permco, cusip, date, ncoups, amount_outstanding, yield, remcoups, ret_eom, principal_amt, price_eom, coupon, maturity]\n",
       "Index: []"
      ]
     },
     "execution_count": null,
     "metadata": {},
     "output_type": "execute_result"
    }
   ],
   "source": [
    "#| eval: false\n",
    "raw.head(0)"
   ]
  },
  {
   "cell_type": "code",
   "execution_count": null,
   "metadata": {},
   "outputs": [],
   "source": [
    "#| export\n",
    "def process_raw_data(\n",
    "        df: pd.DataFrame=None,  # Must contain `permno` and `datadate` columns   \n",
    "        clean_kwargs: dict={},  # Params to pass to `pdm.setup_panel` other than `panel_ids`, `time_var`, and `freq`\n",
    ") -> pd.DataFrame:\n",
    "    \"\"\"Applies `pandasmore.setup_panel` to `df`\"\"\"\n",
    "\n",
    "    # Change some variables to categorical\n",
    "    for col in ['permno','permco']:\n",
    "        if col in df.columns:\n",
    "            df[col] = df[col].astype('Int64').astype('category')\n",
    "\n",
    "    for col in ['cusip']:\n",
    "        if col in df.columns:\n",
    "            df[col] = df[col].astype('string').astype('category')\n",
    "\n",
    "    # Set up panel structure\n",
    "    df = pdm.setup_panel(df, \n",
    "                         drop_index_duplicates=False, # Multiple bonds (cusips) per permno per date\n",
    "                         panel_ids=ENTITY_ID_IN_RAW_DSET, time_var=TIME_VAR_IN_RAW_DSET, freq=FREQ, \n",
    "                         panel_ids_toint=False, \n",
    "                         **clean_kwargs)\n",
    "    return df "
   ]
  },
  {
   "cell_type": "code",
   "execution_count": null,
   "metadata": {},
   "outputs": [],
   "source": [
    "#| eval: false\n",
    "df_clean = process_raw_data(raw)"
   ]
  },
  {
   "cell_type": "code",
   "execution_count": null,
   "metadata": {},
   "outputs": [
    {
     "data": {
      "text/html": [
       "<div>\n",
       "<style scoped>\n",
       "    .dataframe tbody tr th:only-of-type {\n",
       "        vertical-align: middle;\n",
       "    }\n",
       "\n",
       "    .dataframe tbody tr th {\n",
       "        vertical-align: top;\n",
       "    }\n",
       "\n",
       "    .dataframe thead th {\n",
       "        text-align: right;\n",
       "    }\n",
       "</style>\n",
       "<table border=\"1\" class=\"dataframe\">\n",
       "  <thead>\n",
       "    <tr style=\"text-align: right;\">\n",
       "      <th></th>\n",
       "      <th></th>\n",
       "      <th>date</th>\n",
       "      <th>dtdate</th>\n",
       "      <th>permco</th>\n",
       "      <th>cusip</th>\n",
       "      <th>ncoups</th>\n",
       "      <th>amount_outstanding</th>\n",
       "      <th>yield</th>\n",
       "      <th>remcoups</th>\n",
       "      <th>ret_eom</th>\n",
       "      <th>principal_amt</th>\n",
       "      <th>price_eom</th>\n",
       "      <th>coupon</th>\n",
       "      <th>maturity</th>\n",
       "    </tr>\n",
       "    <tr>\n",
       "      <th>permno</th>\n",
       "      <th>Mdate</th>\n",
       "      <th></th>\n",
       "      <th></th>\n",
       "      <th></th>\n",
       "      <th></th>\n",
       "      <th></th>\n",
       "      <th></th>\n",
       "      <th></th>\n",
       "      <th></th>\n",
       "      <th></th>\n",
       "      <th></th>\n",
       "      <th></th>\n",
       "      <th></th>\n",
       "      <th></th>\n",
       "    </tr>\n",
       "  </thead>\n",
       "  <tbody>\n",
       "    <tr>\n",
       "      <th rowspan=\"5\" valign=\"top\">26403</th>\n",
       "      <th>2002-07</th>\n",
       "      <td>2002-07-31</td>\n",
       "      <td>2002-07-31</td>\n",
       "      <td>20587</td>\n",
       "      <td>00072AAA8</td>\n",
       "      <td>2.0</td>\n",
       "      <td>59905.0</td>\n",
       "      <td>0.063246</td>\n",
       "      <td>14.0</td>\n",
       "      <td>NaN</td>\n",
       "      <td>1000.0</td>\n",
       "      <td>117.597667</td>\n",
       "      <td>9.645</td>\n",
       "      <td>2009-02-15</td>\n",
       "    </tr>\n",
       "    <tr>\n",
       "      <th>2002-08</th>\n",
       "      <td>2002-08-31</td>\n",
       "      <td>2002-08-31</td>\n",
       "      <td>20587</td>\n",
       "      <td>00072AAA8</td>\n",
       "      <td>2.0</td>\n",
       "      <td>59905.0</td>\n",
       "      <td>0.061086</td>\n",
       "      <td>13.0</td>\n",
       "      <td>0.015265</td>\n",
       "      <td>1000.0</td>\n",
       "      <td>118.601000</td>\n",
       "      <td>9.645</td>\n",
       "      <td>2009-02-15</td>\n",
       "    </tr>\n",
       "    <tr>\n",
       "      <th>2002-10</th>\n",
       "      <td>2002-10-31</td>\n",
       "      <td>2002-10-31</td>\n",
       "      <td>20587</td>\n",
       "      <td>00072AAA8</td>\n",
       "      <td>2.0</td>\n",
       "      <td>59905.0</td>\n",
       "      <td>0.068340</td>\n",
       "      <td>13.0</td>\n",
       "      <td>NaN</td>\n",
       "      <td>1000.0</td>\n",
       "      <td>114.125000</td>\n",
       "      <td>9.645</td>\n",
       "      <td>2009-02-15</td>\n",
       "    </tr>\n",
       "    <tr>\n",
       "      <th>2002-11</th>\n",
       "      <td>2002-11-30</td>\n",
       "      <td>2002-11-30</td>\n",
       "      <td>20587</td>\n",
       "      <td>00072AAA8</td>\n",
       "      <td>2.0</td>\n",
       "      <td>59905.0</td>\n",
       "      <td>0.056472</td>\n",
       "      <td>13.0</td>\n",
       "      <td>0.062946</td>\n",
       "      <td>1000.0</td>\n",
       "      <td>120.644000</td>\n",
       "      <td>9.645</td>\n",
       "      <td>2009-02-15</td>\n",
       "    </tr>\n",
       "    <tr>\n",
       "      <th>2003-02</th>\n",
       "      <td>2003-02-28</td>\n",
       "      <td>2003-02-28</td>\n",
       "      <td>20587</td>\n",
       "      <td>00072AAA8</td>\n",
       "      <td>2.0</td>\n",
       "      <td>59905.0</td>\n",
       "      <td>0.052255</td>\n",
       "      <td>12.0</td>\n",
       "      <td>NaN</td>\n",
       "      <td>1000.0</td>\n",
       "      <td>122.421000</td>\n",
       "      <td>9.645</td>\n",
       "      <td>2009-02-15</td>\n",
       "    </tr>\n",
       "  </tbody>\n",
       "</table>\n",
       "</div>"
      ],
      "text/plain": [
       "                      date     dtdate permco      cusip  ncoups  \\\n",
       "permno Mdate                                                      \n",
       "26403  2002-07  2002-07-31 2002-07-31  20587  00072AAA8     2.0   \n",
       "       2002-08  2002-08-31 2002-08-31  20587  00072AAA8     2.0   \n",
       "       2002-10  2002-10-31 2002-10-31  20587  00072AAA8     2.0   \n",
       "       2002-11  2002-11-30 2002-11-30  20587  00072AAA8     2.0   \n",
       "       2003-02  2003-02-28 2003-02-28  20587  00072AAA8     2.0   \n",
       "\n",
       "                amount_outstanding     yield  remcoups   ret_eom  \\\n",
       "permno Mdate                                                       \n",
       "26403  2002-07             59905.0  0.063246      14.0       NaN   \n",
       "       2002-08             59905.0  0.061086      13.0  0.015265   \n",
       "       2002-10             59905.0  0.068340      13.0       NaN   \n",
       "       2002-11             59905.0  0.056472      13.0  0.062946   \n",
       "       2003-02             59905.0  0.052255      12.0       NaN   \n",
       "\n",
       "                principal_amt   price_eom  coupon    maturity  \n",
       "permno Mdate                                                   \n",
       "26403  2002-07         1000.0  117.597667   9.645  2009-02-15  \n",
       "       2002-08         1000.0  118.601000   9.645  2009-02-15  \n",
       "       2002-10         1000.0  114.125000   9.645  2009-02-15  \n",
       "       2002-11         1000.0  120.644000   9.645  2009-02-15  \n",
       "       2003-02         1000.0  122.421000   9.645  2009-02-15  "
      ]
     },
     "execution_count": null,
     "metadata": {},
     "output_type": "execute_result"
    }
   ],
   "source": [
    "#| eval: false\n",
    "df_clean.head()"
   ]
  },
  {
   "cell_type": "code",
   "execution_count": null,
   "metadata": {},
   "outputs": [],
   "source": [
    "#| hide\n",
    "import nbdev; nbdev.nbdev_export()"
   ]
  }
 ],
 "metadata": {
  "kernelspec": {
   "display_name": "python3",
   "language": "python",
   "name": "python3"
  }
 },
 "nbformat": 4,
 "nbformat_minor": 2
}
