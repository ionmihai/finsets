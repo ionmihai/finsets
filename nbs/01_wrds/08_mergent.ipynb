{
 "cells": [
  {
   "cell_type": "markdown",
   "metadata": {},
   "source": [
    "# mergent\n",
    "\n",
    "> Retrieve and process data from WRDS Mergent FISD"
   ]
  },
  {
   "cell_type": "markdown",
   "metadata": {},
   "source": [
    "Since this is a proprietary dataset, in the documentation below, I can not show any of the data that is being retrieved/generated (will show only column names)."
   ]
  },
  {
   "cell_type": "code",
   "execution_count": null,
   "metadata": {},
   "outputs": [],
   "source": [
    "#| default_exp wrds.mergent"
   ]
  },
  {
   "cell_type": "code",
   "execution_count": null,
   "metadata": {},
   "outputs": [],
   "source": [
    "#|exports\n",
    "from __future__ import annotations\n",
    "from typing import List\n",
    "\n",
    "import pandas as pd\n",
    "\n",
    "from finsets.wrds import wrds_api"
   ]
  },
  {
   "cell_type": "code",
   "execution_count": null,
   "metadata": {},
   "outputs": [],
   "source": [
    "#| exports\n",
    "PROVIDER = 'Wharton Research Data Services (WRDS)'\n",
    "URL = 'https://wrds-www.wharton.upenn.edu/pages/get-data/mergent-fixed-income-securities-database-fisd/'\n",
    "LIBRARY = 'fisd'\n",
    "TABLE = 'fisd_mergedissue'\n",
    "ISSUER_TABLE = 'fisd_mergedissuer'\n",
    "FREQ = 'D'\n",
    "MIN_YEAR = 1894\n",
    "MAX_YEAR = None\n",
    "ENTITY_ID_IN_RAW_DSET = 'complete_cusip'\n",
    "ENTITY_ID_IN_CLEAN_DSET = 'cusip'\n",
    "TIME_VAR_IN_RAW_DSET = 'offering_date'\n",
    "TIME_VAR_IN_CLEAN_DSET = 'offering_date'"
   ]
  },
  {
   "cell_type": "code",
   "execution_count": null,
   "metadata": {},
   "outputs": [],
   "source": [
    "#| export\n",
    "def list_all_vars() -> pd.DataFrame:\n",
    "    \"Collects names of all available variables from WRDS f`{LIBRARY}.{TABLE}`.\"\n",
    "\n",
    "    try:\n",
    "        db = wrds_api.Connection()\n",
    "        issues = db.describe_table(LIBRARY,TABLE).assign(wrds_library=LIBRARY, wrds_table=TABLE)\n",
    "        issuers = db.describe_table(LIBRARY,ISSUER_TABLE).assign(wrds_library=LIBRARY, wrds_table=ISSUER_TABLE)\n",
    "    finally:\n",
    "        db.close()\n",
    "\n",
    "    return pd.concat([issues, issuers])[['name','type','wrds_library','wrds_table']].copy()"
   ]
  },
  {
   "cell_type": "code",
   "execution_count": null,
   "metadata": {},
   "outputs": [],
   "source": [
    "#| eval: false\n",
    "all_vars = list_all_vars()"
   ]
  },
  {
   "cell_type": "code",
   "execution_count": null,
   "metadata": {},
   "outputs": [
    {
     "data": {
      "text/html": [
       "<div>\n",
       "<style scoped>\n",
       "    .dataframe tbody tr th:only-of-type {\n",
       "        vertical-align: middle;\n",
       "    }\n",
       "\n",
       "    .dataframe tbody tr th {\n",
       "        vertical-align: top;\n",
       "    }\n",
       "\n",
       "    .dataframe thead th {\n",
       "        text-align: right;\n",
       "    }\n",
       "</style>\n",
       "<table border=\"1\" class=\"dataframe\">\n",
       "  <thead>\n",
       "    <tr style=\"text-align: right;\">\n",
       "      <th></th>\n",
       "      <th>name</th>\n",
       "      <th>type</th>\n",
       "      <th>wrds_library</th>\n",
       "      <th>wrds_table</th>\n",
       "    </tr>\n",
       "  </thead>\n",
       "  <tbody>\n",
       "    <tr>\n",
       "      <th>0</th>\n",
       "      <td>issue_id</td>\n",
       "      <td>DOUBLE_PRECISION</td>\n",
       "      <td>fisd</td>\n",
       "      <td>fisd_mergedissue</td>\n",
       "    </tr>\n",
       "    <tr>\n",
       "      <th>1</th>\n",
       "      <td>issuer_id</td>\n",
       "      <td>DOUBLE_PRECISION</td>\n",
       "      <td>fisd</td>\n",
       "      <td>fisd_mergedissue</td>\n",
       "    </tr>\n",
       "    <tr>\n",
       "      <th>2</th>\n",
       "      <td>prospectus_issuer_name</td>\n",
       "      <td>VARCHAR(64)</td>\n",
       "      <td>fisd</td>\n",
       "      <td>fisd_mergedissue</td>\n",
       "    </tr>\n",
       "    <tr>\n",
       "      <th>3</th>\n",
       "      <td>issuer_cusip</td>\n",
       "      <td>VARCHAR(6)</td>\n",
       "      <td>fisd</td>\n",
       "      <td>fisd_mergedissue</td>\n",
       "    </tr>\n",
       "    <tr>\n",
       "      <th>4</th>\n",
       "      <td>issue_cusip</td>\n",
       "      <td>VARCHAR(3)</td>\n",
       "      <td>fisd</td>\n",
       "      <td>fisd_mergedissue</td>\n",
       "    </tr>\n",
       "    <tr>\n",
       "      <th>...</th>\n",
       "      <td>...</td>\n",
       "      <td>...</td>\n",
       "      <td>...</td>\n",
       "      <td>...</td>\n",
       "    </tr>\n",
       "    <tr>\n",
       "      <th>17</th>\n",
       "      <td>country</td>\n",
       "      <td>VARCHAR(16)</td>\n",
       "      <td>fisd</td>\n",
       "      <td>fisd_mergedissuer</td>\n",
       "    </tr>\n",
       "    <tr>\n",
       "      <th>18</th>\n",
       "      <td>main_phone</td>\n",
       "      <td>VARCHAR(20)</td>\n",
       "      <td>fisd</td>\n",
       "      <td>fisd_mergedissuer</td>\n",
       "    </tr>\n",
       "    <tr>\n",
       "      <th>19</th>\n",
       "      <td>main_fax</td>\n",
       "      <td>VARCHAR(20)</td>\n",
       "      <td>fisd</td>\n",
       "      <td>fisd_mergedissuer</td>\n",
       "    </tr>\n",
       "    <tr>\n",
       "      <th>20</th>\n",
       "      <td>note</td>\n",
       "      <td>VARCHAR(254)</td>\n",
       "      <td>fisd</td>\n",
       "      <td>fisd_mergedissuer</td>\n",
       "    </tr>\n",
       "    <tr>\n",
       "      <th>21</th>\n",
       "      <td>sic_code</td>\n",
       "      <td>VARCHAR(4)</td>\n",
       "      <td>fisd</td>\n",
       "      <td>fisd_mergedissuer</td>\n",
       "    </tr>\n",
       "  </tbody>\n",
       "</table>\n",
       "<p>246 rows × 4 columns</p>\n",
       "</div>"
      ],
      "text/plain": [
       "                      name              type wrds_library         wrds_table\n",
       "0                 issue_id  DOUBLE_PRECISION         fisd   fisd_mergedissue\n",
       "1                issuer_id  DOUBLE_PRECISION         fisd   fisd_mergedissue\n",
       "2   prospectus_issuer_name       VARCHAR(64)         fisd   fisd_mergedissue\n",
       "3             issuer_cusip        VARCHAR(6)         fisd   fisd_mergedissue\n",
       "4              issue_cusip        VARCHAR(3)         fisd   fisd_mergedissue\n",
       "..                     ...               ...          ...                ...\n",
       "17                 country       VARCHAR(16)         fisd  fisd_mergedissuer\n",
       "18              main_phone       VARCHAR(20)         fisd  fisd_mergedissuer\n",
       "19                main_fax       VARCHAR(20)         fisd  fisd_mergedissuer\n",
       "20                    note      VARCHAR(254)         fisd  fisd_mergedissuer\n",
       "21                sic_code        VARCHAR(4)         fisd  fisd_mergedissuer\n",
       "\n",
       "[246 rows x 4 columns]"
      ]
     },
     "execution_count": null,
     "metadata": {},
     "output_type": "execute_result"
    }
   ],
   "source": [
    "#| eval: false\n",
    "all_vars"
   ]
  },
  {
   "cell_type": "code",
   "execution_count": null,
   "metadata": {},
   "outputs": [],
   "source": [
    "#| export\n",
    "def default_raw_vars():\n",
    "    \"\"\"Defines default variables used in `get_raw_data` if none are specified.\"\"\"\n",
    "\n",
    "    return ['offering_date', 'issue_id', 'issuer_id', 'issuer_cusip', 'issue_cusip', 'complete_cusip', 'isin', \n",
    "            'security_level', 'coupon_type', 'convertible', 'foreign_currency', 'rule_144a', 'redeemable', 'bond_type', \n",
    "            'maturity', 'coupon', 'offering_amt', 'offering_price', 'principal_amt', 'defaulted',\n",
    "            'day_count_basis', 'last_interest_date', 'first_interest_date', 'conv_commod_type',\n",
    "            'cusip_name','naics_code','sic_code', 'treasury_maturity', \n",
    "            'country_domicile',  'private_placement', 'asset_backed', 'interest_frequency','dated_date',\n",
    "            ]            "
   ]
  },
  {
   "cell_type": "code",
   "execution_count": null,
   "metadata": {},
   "outputs": [
    {
     "name": "stdout",
     "output_type": "stream",
     "text": [
      "['offering_date', 'issue_id', 'issuer_id', 'issuer_cusip', 'issue_cusip', 'complete_cusip', 'isin', 'security_level', 'coupon_type', 'convertible', 'foreign_currency', 'rule_144a', 'redeemable', 'bond_type', 'conv_commod_type', 'maturity', 'coupon', 'offering_amt', 'offering_price', 'principal_amt', 'defaulted', 'day_count_basis', 'last_interest_date', 'first_interest_date', 'cusip_name', 'naics_code', 'sic_code', 'treasury_maturity', 'country_domicile', 'private_placement', 'asset_backed', 'interest_frequency', 'dated_date']\n"
     ]
    }
   ],
   "source": [
    "print(default_raw_vars())"
   ]
  },
  {
   "cell_type": "code",
   "execution_count": null,
   "metadata": {},
   "outputs": [],
   "source": [
    "#| export\n",
    "def parse_varlist(vars: List[str]=None,\n",
    "                  required_vars = [],\n",
    "                  ) -> str:\n",
    "    \"\"\"Validates that `vars` are available in `{LIBRARY}.{TABLE}` table and adds a. prefixes to variable names to feed into an SQL query\"\"\"\n",
    "\n",
    "    # Get all available variables and add suffixes needed for the SQL query\n",
    "    suffix_mapping = {TABLE: 'a.', ISSUER_TABLE: 'b.'}\n",
    "    all_avail_vars = list_all_vars().drop_duplicates(subset='name',keep='first').copy()\n",
    "    all_avail_vars['w_prefix'] = all_avail_vars.apply(lambda row: suffix_mapping[row['wrds_table']] + row['name'] , axis=1)\n",
    "\n",
    "    if vars == '*': return ','.join(list(all_avail_vars['w_prefix']))\n",
    "    \n",
    "    # Add required vars to requested vars\n",
    "    if vars is None: vars = default_raw_vars()\n",
    "    vars_to_get =  required_vars + [x for x in list(set(vars)) if x not in required_vars]\n",
    "\n",
    "    # Validate variables to be downloaded (make sure that they are in the target database)\n",
    "    invalid_vars = [v for v in vars_to_get if v not in list(all_avail_vars.name)]\n",
    "    if invalid_vars: raise ValueError(f\"These vars are not in the database: {invalid_vars}\") \n",
    "\n",
    "    # Extract information on which variable comes from which wrds table, so we know what prefix to use\n",
    "    vars_to_get = pd.DataFrame(vars_to_get, columns=['name'])\n",
    "    get_these = vars_to_get.merge(all_avail_vars, how = 'left', on = 'name')\n",
    "        \n",
    "    return ','.join(list(get_these['w_prefix']))"
   ]
  },
  {
   "cell_type": "code",
   "execution_count": null,
   "metadata": {},
   "outputs": [
    {
     "data": {
      "text/plain": [
       "'a.foreign_currency,a.asset_backed,a.coupon,a.interest_frequency,a.isin,a.complete_cusip,a.principal_amt,a.defaulted,a.offering_price,a.private_placement,a.issuer_cusip,a.bond_type,a.offering_amt,a.treasury_maturity,a.dated_date,b.country_domicile,a.security_level,a.redeemable,b.naics_code,a.rule_144a,b.sic_code,b.cusip_name,a.issue_cusip,a.offering_date,a.convertible,a.first_interest_date,a.last_interest_date,a.maturity,a.issue_id,a.coupon_type,a.issuer_id,a.day_count_basis,a.conv_commod_type'"
      ]
     },
     "execution_count": null,
     "metadata": {},
     "output_type": "execute_result"
    }
   ],
   "source": [
    "#| eval: false\n",
    "parse_varlist()"
   ]
  },
  {
   "cell_type": "code",
   "execution_count": null,
   "metadata": {},
   "outputs": [],
   "source": [
    "#| export\n",
    "def get_raw_data(\n",
    "        vars: List[str]=None, # If None, downloads `default_raw_vars`; use '*' to get all available variables\n",
    "        required_vars: List[str]=['offering_date','complete_cusip','issuer_id'], #Will get downloaded, even if not in `vars`\n",
    "        nrows: int=None, #Number of rows to download. If None, full dataset will be downloaded\n",
    "        start_date: str=None, # Start date in MM/DD/YYYY format\n",
    "        end_date: str=None #End date in MM/DD/YYYY format\n",
    ") -> pd.DataFrame:\n",
    "    \"\"\"Downloads `vars` from `start_date` to `end_date` from WRDS `{LIBRARY}.{TABLE}` library\"\"\"\n",
    " \n",
    "    wrds_api.validate_dates([start_date, end_date])\n",
    "    vars = parse_varlist(vars, required_vars=required_vars)\n",
    "\n",
    "    sql_string=f\"\"\"SELECT {vars}\n",
    "            TSLA        FROM {LIBRARY}.{TABLE} AS a\n",
    "                    LEFT JOIN {LIBRARY}.{ISSUER_TABLE} AS b ON a.issuer_id = b.issuer_id\n",
    "                    WHERE 1=1\n",
    "                \"\"\"\n",
    "    if start_date is not None: sql_string += r\" AND offering_date >= %(start_date)s\"\n",
    "    if end_date is not None: sql_string += r\" AND offering_date <= %(end_date)s\"\n",
    "    if nrows is not None: sql_string += r\" LIMIT %(nrows)s\"\n",
    "    \n",
    "    return wrds_api.download(sql_string,\n",
    "                             params={'start_date':start_date, 'end_date':end_date, 'nrows':nrows})"
   ]
  },
  {
   "cell_type": "code",
   "execution_count": null,
   "metadata": {},
   "outputs": [],
   "source": [
    "#| eval: false\n",
    "raw = get_raw_data(start_date='01/01/1970')"
   ]
  },
  {
   "cell_type": "code",
   "execution_count": null,
   "metadata": {},
   "outputs": [
    {
     "data": {
      "text/html": [
       "<div>\n",
       "<style scoped>\n",
       "    .dataframe tbody tr th:only-of-type {\n",
       "        vertical-align: middle;\n",
       "    }\n",
       "\n",
       "    .dataframe tbody tr th {\n",
       "        vertical-align: top;\n",
       "    }\n",
       "\n",
       "    .dataframe thead th {\n",
       "        text-align: right;\n",
       "    }\n",
       "</style>\n",
       "<table border=\"1\" class=\"dataframe\">\n",
       "  <thead>\n",
       "    <tr style=\"text-align: right;\">\n",
       "      <th></th>\n",
       "      <th>offering_date</th>\n",
       "      <th>complete_cusip</th>\n",
       "      <th>issuer_id</th>\n",
       "      <th>foreign_currency</th>\n",
       "      <th>asset_backed</th>\n",
       "      <th>coupon</th>\n",
       "      <th>interest_frequency</th>\n",
       "      <th>isin</th>\n",
       "      <th>principal_amt</th>\n",
       "      <th>defaulted</th>\n",
       "      <th>...</th>\n",
       "      <th>cusip_name</th>\n",
       "      <th>issue_cusip</th>\n",
       "      <th>convertible</th>\n",
       "      <th>first_interest_date</th>\n",
       "      <th>last_interest_date</th>\n",
       "      <th>maturity</th>\n",
       "      <th>issue_id</th>\n",
       "      <th>coupon_type</th>\n",
       "      <th>day_count_basis</th>\n",
       "      <th>conv_commod_type</th>\n",
       "    </tr>\n",
       "  </thead>\n",
       "  <tbody>\n",
       "  </tbody>\n",
       "</table>\n",
       "<p>0 rows × 33 columns</p>\n",
       "</div>"
      ],
      "text/plain": [
       "Empty DataFrame\n",
       "Columns: [offering_date, complete_cusip, issuer_id, foreign_currency, asset_backed, coupon, interest_frequency, isin, principal_amt, defaulted, offering_price, private_placement, issuer_cusip, bond_type, offering_amt, treasury_maturity, dated_date, country_domicile, security_level, redeemable, naics_code, rule_144a, sic_code, cusip_name, issue_cusip, convertible, first_interest_date, last_interest_date, maturity, issue_id, coupon_type, day_count_basis, conv_commod_type]\n",
       "Index: []\n",
       "\n",
       "[0 rows x 33 columns]"
      ]
     },
     "execution_count": null,
     "metadata": {},
     "output_type": "execute_result"
    }
   ],
   "source": [
    "#| eval: false\n",
    "raw.head(0)"
   ]
  },
  {
   "cell_type": "code",
   "execution_count": null,
   "metadata": {},
   "outputs": [],
   "source": [
    "#| export\n",
    "def process_raw_data(\n",
    "        df: pd.DataFrame=None,  # Must contain `permno` and `datadate` columns   \n",
    ") -> pd.DataFrame:\n",
    "    \"\"\"Mainly converts variables to categorical type to save memory.\"\"\"\n",
    "\n",
    "    df = df.rename(columns={'complete_cusip':'cusip'})\n",
    "    to_cat = ['cusip', 'issuer_cusip', 'issue_cusip', 'isin', 'naics_code', 'sic_code', \n",
    "           'redeemable', 'security_level', 'country_domicile', 'private_placement', 'foreign_currency', 'rule_144a',\n",
    "           'asset_backed', 'convertible', 'coupon_type','bond_type']\n",
    "    for col in to_cat:\n",
    "        if col in df.columns:\n",
    "            df[col] = df[col].astype('string').astype('category')\n",
    "\n",
    "    return df "
   ]
  },
  {
   "cell_type": "code",
   "execution_count": null,
   "metadata": {},
   "outputs": [],
   "source": [
    "#| eval: false\n",
    "df_clean = process_raw_data(raw)"
   ]
  },
  {
   "cell_type": "code",
   "execution_count": null,
   "metadata": {},
   "outputs": [
    {
     "data": {
      "text/html": [
       "<div>\n",
       "<style scoped>\n",
       "    .dataframe tbody tr th:only-of-type {\n",
       "        vertical-align: middle;\n",
       "    }\n",
       "\n",
       "    .dataframe tbody tr th {\n",
       "        vertical-align: top;\n",
       "    }\n",
       "\n",
       "    .dataframe thead th {\n",
       "        text-align: right;\n",
       "    }\n",
       "</style>\n",
       "<table border=\"1\" class=\"dataframe\">\n",
       "  <thead>\n",
       "    <tr style=\"text-align: right;\">\n",
       "      <th></th>\n",
       "      <th>offering_date</th>\n",
       "      <th>cusip</th>\n",
       "      <th>issuer_id</th>\n",
       "      <th>foreign_currency</th>\n",
       "      <th>asset_backed</th>\n",
       "      <th>coupon</th>\n",
       "      <th>interest_frequency</th>\n",
       "      <th>isin</th>\n",
       "      <th>principal_amt</th>\n",
       "      <th>defaulted</th>\n",
       "      <th>...</th>\n",
       "      <th>cusip_name</th>\n",
       "      <th>issue_cusip</th>\n",
       "      <th>convertible</th>\n",
       "      <th>first_interest_date</th>\n",
       "      <th>last_interest_date</th>\n",
       "      <th>maturity</th>\n",
       "      <th>issue_id</th>\n",
       "      <th>coupon_type</th>\n",
       "      <th>day_count_basis</th>\n",
       "      <th>conv_commod_type</th>\n",
       "    </tr>\n",
       "  </thead>\n",
       "  <tbody>\n",
       "  </tbody>\n",
       "</table>\n",
       "<p>0 rows × 33 columns</p>\n",
       "</div>"
      ],
      "text/plain": [
       "Empty DataFrame\n",
       "Columns: [offering_date, cusip, issuer_id, foreign_currency, asset_backed, coupon, interest_frequency, isin, principal_amt, defaulted, offering_price, private_placement, issuer_cusip, bond_type, offering_amt, treasury_maturity, dated_date, country_domicile, security_level, redeemable, naics_code, rule_144a, sic_code, cusip_name, issue_cusip, convertible, first_interest_date, last_interest_date, maturity, issue_id, coupon_type, day_count_basis, conv_commod_type]\n",
       "Index: []\n",
       "\n",
       "[0 rows x 33 columns]"
      ]
     },
     "execution_count": null,
     "metadata": {},
     "output_type": "execute_result"
    }
   ],
   "source": [
    "#| eval: false\n",
    "df_clean.head(0)"
   ]
  },
  {
   "cell_type": "code",
   "execution_count": null,
   "metadata": {},
   "outputs": [],
   "source": [
    "#| hide\n",
    "import nbdev; nbdev.nbdev_export()"
   ]
  }
 ],
 "metadata": {
  "kernelspec": {
   "display_name": "python3",
   "language": "python",
   "name": "python3"
  }
 },
 "nbformat": 4,
 "nbformat_minor": 4
}
