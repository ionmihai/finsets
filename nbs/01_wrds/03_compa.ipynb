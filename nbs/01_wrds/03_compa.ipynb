{
 "cells": [
  {
   "attachments": {},
   "cell_type": "markdown",
   "metadata": {},
   "source": [
    "# wrds_compa\n",
    "\n",
    "> Retrieve and process data from WRDS Compustat Annual"
   ]
  },
  {
   "attachments": {},
   "cell_type": "markdown",
   "metadata": {},
   "source": [
    "Since this is a proprietary dataset, in the documentation below, I can not show any of the data that is being retrieved/generated (will show only column names)."
   ]
  },
  {
   "cell_type": "code",
   "execution_count": null,
   "metadata": {},
   "outputs": [],
   "source": [
    "#| default_exp wrds.compa"
   ]
  },
  {
   "cell_type": "code",
   "execution_count": null,
   "metadata": {},
   "outputs": [],
   "source": [
    "#|exports\n",
    "from __future__ import annotations\n",
    "from pathlib import Path\n",
    "from typing import List\n",
    "import os\n",
    "\n",
    "import pandas as pd\n",
    "import numpy as np\n",
    "\n",
    "import pandasmore as pdm\n",
    "from finsets.wrds import wrds_api\n",
    "from finsets import RESOURCES"
   ]
  },
  {
   "cell_type": "code",
   "execution_count": null,
   "metadata": {},
   "outputs": [],
   "source": [
    "#| export \n",
    "def variable_labels(rawfile: str|Path=RESOURCES/'compa_variable_descriptions.csv', # location of the raw variable labels file\n",
    "             ) -> pd.DataFrame:\n",
    "    \"Loads raw variable labels file, cleans it and returns it as a pd.DataFrame\"\n",
    "\n",
    "    df = pd.read_csv(rawfile)\n",
    "    df['Variable Label'] = df.apply(lambda row: row['Description'].replace(row['Variable Name'].strip()+' -- ', ''), axis=1)\n",
    "    df['Variable Label'] = df.apply(lambda row: row['Variable Label'].replace( '(' + row['Variable Name'].strip() + ')', ''), axis=1)\n",
    "    df['Variable Name'] = df['Variable Name'].str.strip().str.lower()\n",
    "    df = df[['Variable Name', 'Variable Label', 'Type']].copy()\n",
    "    df.columns = ['name','label','type']\n",
    "    return df"
   ]
  },
  {
   "cell_type": "code",
   "execution_count": null,
   "metadata": {},
   "outputs": [
    {
     "data": {
      "text/html": [
       "<div>\n",
       "<style scoped>\n",
       "    .dataframe tbody tr th:only-of-type {\n",
       "        vertical-align: middle;\n",
       "    }\n",
       "\n",
       "    .dataframe tbody tr th {\n",
       "        vertical-align: top;\n",
       "    }\n",
       "\n",
       "    .dataframe thead th {\n",
       "        text-align: right;\n",
       "    }\n",
       "</style>\n",
       "<table border=\"1\" class=\"dataframe\">\n",
       "  <thead>\n",
       "    <tr style=\"text-align: right;\">\n",
       "      <th></th>\n",
       "      <th>name</th>\n",
       "      <th>label</th>\n",
       "      <th>type</th>\n",
       "    </tr>\n",
       "  </thead>\n",
       "  <tbody>\n",
       "    <tr>\n",
       "      <th>0</th>\n",
       "      <td>gvkey</td>\n",
       "      <td>Global Company Key</td>\n",
       "      <td>string</td>\n",
       "    </tr>\n",
       "    <tr>\n",
       "      <th>1</th>\n",
       "      <td>conm</td>\n",
       "      <td>Company Name</td>\n",
       "      <td>string</td>\n",
       "    </tr>\n",
       "    <tr>\n",
       "      <th>2</th>\n",
       "      <td>tic</td>\n",
       "      <td>Ticker Symbol</td>\n",
       "      <td>string</td>\n",
       "    </tr>\n",
       "    <tr>\n",
       "      <th>3</th>\n",
       "      <td>cusip</td>\n",
       "      <td>CUSIP</td>\n",
       "      <td>string</td>\n",
       "    </tr>\n",
       "    <tr>\n",
       "      <th>4</th>\n",
       "      <td>cik</td>\n",
       "      <td>CIK Number</td>\n",
       "      <td>string</td>\n",
       "    </tr>\n",
       "    <tr>\n",
       "      <th>...</th>\n",
       "      <td>...</td>\n",
       "      <td>...</td>\n",
       "      <td>...</td>\n",
       "    </tr>\n",
       "    <tr>\n",
       "      <th>969</th>\n",
       "      <td>prch_c</td>\n",
       "      <td>Price High - Annual - Calendar</td>\n",
       "      <td>double</td>\n",
       "    </tr>\n",
       "    <tr>\n",
       "      <th>970</th>\n",
       "      <td>prch_f</td>\n",
       "      <td>Price High - Annual - Fiscal</td>\n",
       "      <td>double</td>\n",
       "    </tr>\n",
       "    <tr>\n",
       "      <th>971</th>\n",
       "      <td>prcl_c</td>\n",
       "      <td>Price Low - Annual - Calendar</td>\n",
       "      <td>double</td>\n",
       "    </tr>\n",
       "    <tr>\n",
       "      <th>972</th>\n",
       "      <td>prcl_f</td>\n",
       "      <td>Price Low - Annual - Fiscal</td>\n",
       "      <td>double</td>\n",
       "    </tr>\n",
       "    <tr>\n",
       "      <th>973</th>\n",
       "      <td>sich</td>\n",
       "      <td>Standard Industrial Classification - Historical</td>\n",
       "      <td>double</td>\n",
       "    </tr>\n",
       "  </tbody>\n",
       "</table>\n",
       "<p>974 rows × 3 columns</p>\n",
       "</div>"
      ],
      "text/plain": [
       "       name                                             label    type\n",
       "0     gvkey                               Global Company Key   string\n",
       "1      conm                                     Company Name   string\n",
       "2       tic                                    Ticker Symbol   string\n",
       "3     cusip                                            CUSIP   string\n",
       "4       cik                                       CIK Number   string\n",
       "..      ...                                               ...     ...\n",
       "969  prch_c                   Price High - Annual - Calendar   double\n",
       "970  prch_f                     Price High - Annual - Fiscal   double\n",
       "971  prcl_c                    Price Low - Annual - Calendar   double\n",
       "972  prcl_f                      Price Low - Annual - Fiscal   double\n",
       "973    sich  Standard Industrial Classification - Historical   double\n",
       "\n",
       "[974 rows x 3 columns]"
      ]
     },
     "execution_count": null,
     "metadata": {},
     "output_type": "execute_result"
    }
   ],
   "source": [
    "variable_labels()"
   ]
  },
  {
   "cell_type": "code",
   "execution_count": null,
   "metadata": {},
   "outputs": [],
   "source": [
    "#| export\n",
    "def metadata(wrds_username: str=None\n",
    "             ) -> pd.DataFrame:\n",
    "    \"Collects metadata from WRDS `comp.funda` table and merges it with `variable_labels`.\"\n",
    "\n",
    "    if wrds_username is None:\n",
    "        wrds_username = os.getenv('WRDS_USERNAME')\n",
    "        if wrds_username is None: wrds_username = input(\"Enter your WRDS username: \") \n",
    "\n",
    "    with wrds_api.Connection(wrds_username = wrds_username) as db:\n",
    "        funda = db.describe_table('comp','funda')\n",
    "        nr_rows = db.get_row_count('comp','funda')\n",
    "        \n",
    "    meta = funda[['name','type']].copy()\n",
    "    meta['nr_rows'] = nr_rows\n",
    "    meta['wrds_library'] = 'comp'\n",
    "    meta['wrds_table'] = 'funda'\n",
    "\n",
    "    meta = meta.merge(variable_labels()[['name','label']], how='left', on='name')\n",
    "    \n",
    "    meta['output_of'] = 'wrds.compa.download()'\n",
    "    meta = pdm.order_columns(meta,these_first=['name','label','output_of'])\n",
    "    for v in list(meta.columns):\n",
    "        meta[v] = meta[v].astype('string')\n",
    "    \n",
    "    return meta"
   ]
  },
  {
   "cell_type": "code",
   "execution_count": null,
   "metadata": {},
   "outputs": [
    {
     "name": "stdout",
     "output_type": "stream",
     "text": [
      "Loading library list...\n",
      "Done\n",
      "Approximately 879854 rows in comp.funda.\n"
     ]
    },
    {
     "data": {
      "text/html": [
       "<div>\n",
       "<style scoped>\n",
       "    .dataframe tbody tr th:only-of-type {\n",
       "        vertical-align: middle;\n",
       "    }\n",
       "\n",
       "    .dataframe tbody tr th {\n",
       "        vertical-align: top;\n",
       "    }\n",
       "\n",
       "    .dataframe thead th {\n",
       "        text-align: right;\n",
       "    }\n",
       "</style>\n",
       "<table border=\"1\" class=\"dataframe\">\n",
       "  <thead>\n",
       "    <tr style=\"text-align: right;\">\n",
       "      <th></th>\n",
       "      <th>name</th>\n",
       "      <th>label</th>\n",
       "      <th>output_of</th>\n",
       "      <th>type</th>\n",
       "      <th>nr_rows</th>\n",
       "      <th>wrds_library</th>\n",
       "      <th>wrds_table</th>\n",
       "    </tr>\n",
       "  </thead>\n",
       "  <tbody>\n",
       "    <tr>\n",
       "      <th>0</th>\n",
       "      <td>gvkey</td>\n",
       "      <td>Global Company Key</td>\n",
       "      <td>wrds.compa.download()</td>\n",
       "      <td>VARCHAR(6)</td>\n",
       "      <td>879854</td>\n",
       "      <td>comp</td>\n",
       "      <td>funda</td>\n",
       "    </tr>\n",
       "    <tr>\n",
       "      <th>1</th>\n",
       "      <td>datadate</td>\n",
       "      <td>&lt;NA&gt;</td>\n",
       "      <td>wrds.compa.download()</td>\n",
       "      <td>DATE</td>\n",
       "      <td>879854</td>\n",
       "      <td>comp</td>\n",
       "      <td>funda</td>\n",
       "    </tr>\n",
       "    <tr>\n",
       "      <th>2</th>\n",
       "      <td>fyear</td>\n",
       "      <td>Data Year - Fiscal</td>\n",
       "      <td>wrds.compa.download()</td>\n",
       "      <td>DOUBLE_PRECISION</td>\n",
       "      <td>879854</td>\n",
       "      <td>comp</td>\n",
       "      <td>funda</td>\n",
       "    </tr>\n",
       "    <tr>\n",
       "      <th>3</th>\n",
       "      <td>indfmt</td>\n",
       "      <td>&lt;NA&gt;</td>\n",
       "      <td>wrds.compa.download()</td>\n",
       "      <td>VARCHAR(12)</td>\n",
       "      <td>879854</td>\n",
       "      <td>comp</td>\n",
       "      <td>funda</td>\n",
       "    </tr>\n",
       "    <tr>\n",
       "      <th>4</th>\n",
       "      <td>consol</td>\n",
       "      <td>&lt;NA&gt;</td>\n",
       "      <td>wrds.compa.download()</td>\n",
       "      <td>VARCHAR(2)</td>\n",
       "      <td>879854</td>\n",
       "      <td>comp</td>\n",
       "      <td>funda</td>\n",
       "    </tr>\n",
       "    <tr>\n",
       "      <th>...</th>\n",
       "      <td>...</td>\n",
       "      <td>...</td>\n",
       "      <td>...</td>\n",
       "      <td>...</td>\n",
       "      <td>...</td>\n",
       "      <td>...</td>\n",
       "      <td>...</td>\n",
       "    </tr>\n",
       "    <tr>\n",
       "      <th>943</th>\n",
       "      <td>au</td>\n",
       "      <td>Auditor</td>\n",
       "      <td>wrds.compa.download()</td>\n",
       "      <td>VARCHAR(8)</td>\n",
       "      <td>879854</td>\n",
       "      <td>comp</td>\n",
       "      <td>funda</td>\n",
       "    </tr>\n",
       "    <tr>\n",
       "      <th>944</th>\n",
       "      <td>auop</td>\n",
       "      <td>Auditor Opinion</td>\n",
       "      <td>wrds.compa.download()</td>\n",
       "      <td>VARCHAR(8)</td>\n",
       "      <td>879854</td>\n",
       "      <td>comp</td>\n",
       "      <td>funda</td>\n",
       "    </tr>\n",
       "    <tr>\n",
       "      <th>945</th>\n",
       "      <td>auopic</td>\n",
       "      <td>Auditor Opinion - Internal Control</td>\n",
       "      <td>wrds.compa.download()</td>\n",
       "      <td>VARCHAR(1)</td>\n",
       "      <td>879854</td>\n",
       "      <td>comp</td>\n",
       "      <td>funda</td>\n",
       "    </tr>\n",
       "    <tr>\n",
       "      <th>946</th>\n",
       "      <td>ceoso</td>\n",
       "      <td>Chief Executive Officer SOX Certification</td>\n",
       "      <td>wrds.compa.download()</td>\n",
       "      <td>VARCHAR(1)</td>\n",
       "      <td>879854</td>\n",
       "      <td>comp</td>\n",
       "      <td>funda</td>\n",
       "    </tr>\n",
       "    <tr>\n",
       "      <th>947</th>\n",
       "      <td>cfoso</td>\n",
       "      <td>Chief Financial Officer SOX Certification</td>\n",
       "      <td>wrds.compa.download()</td>\n",
       "      <td>VARCHAR(1)</td>\n",
       "      <td>879854</td>\n",
       "      <td>comp</td>\n",
       "      <td>funda</td>\n",
       "    </tr>\n",
       "  </tbody>\n",
       "</table>\n",
       "<p>948 rows × 7 columns</p>\n",
       "</div>"
      ],
      "text/plain": [
       "         name                                       label  \\\n",
       "0       gvkey                         Global Company Key    \n",
       "1    datadate                                        <NA>   \n",
       "2       fyear                         Data Year - Fiscal    \n",
       "3      indfmt                                        <NA>   \n",
       "4      consol                                        <NA>   \n",
       "..        ...                                         ...   \n",
       "943        au                                    Auditor    \n",
       "944      auop                            Auditor Opinion    \n",
       "945    auopic         Auditor Opinion - Internal Control    \n",
       "946     ceoso  Chief Executive Officer SOX Certification    \n",
       "947     cfoso  Chief Financial Officer SOX Certification    \n",
       "\n",
       "                 output_of              type nr_rows wrds_library wrds_table  \n",
       "0    wrds.compa.download()        VARCHAR(6)  879854         comp      funda  \n",
       "1    wrds.compa.download()              DATE  879854         comp      funda  \n",
       "2    wrds.compa.download()  DOUBLE_PRECISION  879854         comp      funda  \n",
       "3    wrds.compa.download()       VARCHAR(12)  879854         comp      funda  \n",
       "4    wrds.compa.download()        VARCHAR(2)  879854         comp      funda  \n",
       "..                     ...               ...     ...          ...        ...  \n",
       "943  wrds.compa.download()        VARCHAR(8)  879854         comp      funda  \n",
       "944  wrds.compa.download()        VARCHAR(8)  879854         comp      funda  \n",
       "945  wrds.compa.download()        VARCHAR(1)  879854         comp      funda  \n",
       "946  wrds.compa.download()        VARCHAR(1)  879854         comp      funda  \n",
       "947  wrds.compa.download()        VARCHAR(1)  879854         comp      funda  \n",
       "\n",
       "[948 rows x 7 columns]"
      ]
     },
     "execution_count": null,
     "metadata": {},
     "output_type": "execute_result"
    }
   ],
   "source": [
    "#| eval: false\n",
    "metadata()"
   ]
  },
  {
   "cell_type": "code",
   "execution_count": null,
   "metadata": {},
   "outputs": [],
   "source": [
    "#| export\n",
    "def default_raw_vars():\n",
    "    \"\"\"Default variables used in `download` if none are specified.\"\"\"\n",
    "\n",
    "    return ['datadate', 'gvkey', 'cusip' ,'cik' ,'tic' ,'fyear' ,'fyr' ,'naicsh', 'sich' ,'exchg',  \n",
    "            'lt' ,'at' ,'txditc' ,'pstkl' ,'pstkrv' ,'pstk' ,'csho' ,'ajex' , 'rdip',\n",
    "            'act' ,'dvc' ,'xad','seq' ,'che' ,'lct' ,'dlc' ,'ib' ,'dvp' ,'txdi' ,'dp' ,\n",
    "            'txp' ,'oancf' ,'ivncf' ,'fincf' ,'dltt' ,'mib','ceq' ,'invt' ,'cogs' , 'revt',\n",
    "            'sale' ,'capx' ,'xrd' ,'txdb' ,'prcc_f' ,'sstk' ,'prstkc' ,'dltis' ,'dltr' ,'emp' ,\n",
    "            'dd1' ,'ppegt' ,'ppent' ,'xint' ,'txt' ,'sppe' ,'gdwl' ,'xrent' ,'re' ,'dvpsx_f' ,\n",
    "            'tstk' ,'wcap' ,'rect' ,'xsga' ,'aqc' ,'oibdp' ,'dpact' ,'fic' ,'ni' ,'ivao' ,'ivst' ,\n",
    "            'dv' , 'intan' ,'pi' ,'txfo' ,'pifo' ,'xpp' ,'drc' ,'drlt' ,'ap' ,'xacc' ,'itcb']             "
   ]
  },
  {
   "cell_type": "code",
   "execution_count": null,
   "metadata": {},
   "outputs": [
    {
     "name": "stdout",
     "output_type": "stream",
     "text": [
      "['datadate', 'gvkey', 'cusip', 'cik', 'tic', 'fyear', 'fyr', 'naicsh', 'sich', 'exchg', 'lt', 'at', 'txditc', 'pstkl', 'pstkrv', 'pstk', 'csho', 'ajex', 'rdip', 'act', 'dvc', 'xad', 'seq', 'che', 'lct', 'dlc', 'ib', 'dvp', 'txdi', 'dp', 'txp', 'oancf', 'ivncf', 'fincf', 'dltt', 'mib', 'ceq', 'invt', 'cogs', 'revt', 'sale', 'capx', 'xrd', 'txdb', 'prcc_f', 'sstk', 'prstkc', 'dltis', 'dltr', 'emp', 'dd1', 'ppegt', 'ppent', 'xint', 'txt', 'sppe', 'gdwl', 'xrent', 're', 'dvpsx_f', 'tstk', 'wcap', 'rect', 'xsga', 'aqc', 'oibdp', 'dpact', 'fic', 'ni', 'ivao', 'ivst', 'dv', 'intan', 'pi', 'txfo', 'pifo', 'xpp', 'drc', 'drlt', 'ap', 'xacc', 'itcb']\n"
     ]
    }
   ],
   "source": [
    "print(default_raw_vars())"
   ]
  },
  {
   "cell_type": "code",
   "execution_count": null,
   "metadata": {},
   "outputs": [],
   "source": [
    "#| export\n",
    "def download(vars: List[str]=None, # If None, downloads `default_raw_vars`; else `permno`, `permco`, and `date` are added by default\n",
    "             wrds_username: str=None, #If None, looks for WRDS_USERNAME with `os.getenv`, then prompts you if needed\n",
    "             start_date: str=\"01/01/1900\", # Start date in MM/DD/YYYY format\n",
    "             end_date: str=None #End date in MM/DD/YYYY format; if None, defaults to current date\n",
    "             ) -> pd.DataFrame:\n",
    "    \"\"\"Downloads `vars` from `start_date` to `end_date` from WRDS `comp.funda` library and adds PERMNO and PERMCO as in CCM\"\"\"\n",
    "\n",
    "    if vars is None: vars = default_raw_vars()\n",
    "    vars = ','.join(['a.gvkey', 'a.datadate'] + \n",
    "                    [f'a.{x}' for x in vars if x not in ['datadate', 'gvkey']])\n",
    "\n",
    "    sql_string=f\"\"\"SELECT b.lpermno as permno, b.lpermco as permco, b.liid as iid, {vars}\n",
    "                    FROM comp.funda AS a\n",
    "                    INNER JOIN crsp.ccmxpf_lnkhist AS b ON a.gvkey = b.gvkey\n",
    "                    WHERE datadate BETWEEN b.linkdt AND COALESCE(b.linkenddt, CURRENT_DATE)\n",
    "                            AND b.linktype IN ('LU','LC') AND b.linkprim IN ('P','C')\n",
    "                            AND indfmt='INDL' AND datafmt='STD' AND popsrc='D' AND consol='C'\n",
    "                            AND datadate BETWEEN '{start_date}' AND COALESCE(%(end)s, CURRENT_DATE)\n",
    "                \"\"\"\n",
    "    return wrds_api.download(sql_string, wrds_username=wrds_username, params={'end':end_date})"
   ]
  },
  {
   "cell_type": "code",
   "execution_count": null,
   "metadata": {},
   "outputs": [
    {
     "name": "stdout",
     "output_type": "stream",
     "text": [
      "Loading library list...\n",
      "Done\n"
     ]
    }
   ],
   "source": [
    "#| eval: false\n",
    "raw = download(start_date='01/01/2022')"
   ]
  },
  {
   "cell_type": "code",
   "execution_count": null,
   "metadata": {},
   "outputs": [
    {
     "data": {
      "text/html": [
       "<div>\n",
       "<style scoped>\n",
       "    .dataframe tbody tr th:only-of-type {\n",
       "        vertical-align: middle;\n",
       "    }\n",
       "\n",
       "    .dataframe tbody tr th {\n",
       "        vertical-align: top;\n",
       "    }\n",
       "\n",
       "    .dataframe thead th {\n",
       "        text-align: right;\n",
       "    }\n",
       "</style>\n",
       "<table border=\"1\" class=\"dataframe\">\n",
       "  <thead>\n",
       "    <tr style=\"text-align: right;\">\n",
       "      <th></th>\n",
       "      <th>permno</th>\n",
       "      <th>permco</th>\n",
       "      <th>iid</th>\n",
       "      <th>gvkey</th>\n",
       "      <th>datadate</th>\n",
       "      <th>cusip</th>\n",
       "      <th>cik</th>\n",
       "      <th>tic</th>\n",
       "      <th>fyear</th>\n",
       "      <th>fyr</th>\n",
       "      <th>...</th>\n",
       "      <th>intan</th>\n",
       "      <th>pi</th>\n",
       "      <th>txfo</th>\n",
       "      <th>pifo</th>\n",
       "      <th>xpp</th>\n",
       "      <th>drc</th>\n",
       "      <th>drlt</th>\n",
       "      <th>ap</th>\n",
       "      <th>xacc</th>\n",
       "      <th>itcb</th>\n",
       "    </tr>\n",
       "  </thead>\n",
       "  <tbody>\n",
       "  </tbody>\n",
       "</table>\n",
       "<p>0 rows × 85 columns</p>\n",
       "</div>"
      ],
      "text/plain": [
       "Empty DataFrame\n",
       "Columns: [permno, permco, iid, gvkey, datadate, cusip, cik, tic, fyear, fyr, naicsh, sich, exchg, lt, at, txditc, pstkl, pstkrv, pstk, csho, ajex, rdip, act, dvc, xad, seq, che, lct, dlc, ib, dvp, txdi, dp, txp, oancf, ivncf, fincf, dltt, mib, ceq, invt, cogs, revt, sale, capx, xrd, txdb, prcc_f, sstk, prstkc, dltis, dltr, emp, dd1, ppegt, ppent, xint, txt, sppe, gdwl, xrent, re, dvpsx_f, tstk, wcap, rect, xsga, aqc, oibdp, dpact, fic, ni, ivao, ivst, dv, intan, pi, txfo, pifo, xpp, drc, drlt, ap, xacc, itcb]\n",
       "Index: []\n",
       "\n",
       "[0 rows x 85 columns]"
      ]
     },
     "execution_count": null,
     "metadata": {},
     "output_type": "execute_result"
    }
   ],
   "source": [
    "#| eval: false\n",
    "raw.head(0)"
   ]
  },
  {
   "cell_type": "code",
   "execution_count": null,
   "metadata": {},
   "outputs": [],
   "source": [
    "#| export\n",
    "def clean(df: pd.DataFrame=None, # If None, downloads `vars` using `download` function; else, must contain `permno` and `datadate` columns\n",
    "          vars: List[str]=None, # If None, downloads `default_raw_vars`\n",
    "          wrds_username: str=None, #If None, looks for WRDS_USERNAME with `os.getenv`, then prompts you if needed\n",
    "          start_date: str=\"01/01/1900\", # Start date in MM/DD/YYYY format\n",
    "          end_date: str=None, # End date. Default is current date          \n",
    "          clean_kwargs: dict={}, # Params to pass to `pdm.setup_panel` other than `panel_ids`, `time_var`, and `freq`\n",
    "          ) -> pd.DataFrame:\n",
    "    \"\"\"Applies `pandasmore.setup_panel` to `df`. If `df` is None, downloads `vars` using `download` function.\"\"\"\n",
    "\n",
    "    if df is None: df = download(vars=vars, wrds_username=wrds_username, start_date=start_date, end_date=end_date)\n",
    "    df = pdm.setup_panel(df, panel_ids='permno', time_var='datadate', freq='Y', **clean_kwargs)\n",
    "    return df "
   ]
  },
  {
   "cell_type": "code",
   "execution_count": null,
   "metadata": {},
   "outputs": [],
   "source": [
    "#| eval: false\n",
    "df = clean(raw)"
   ]
  },
  {
   "cell_type": "code",
   "execution_count": null,
   "metadata": {},
   "outputs": [
    {
     "data": {
      "text/html": [
       "<div>\n",
       "<style scoped>\n",
       "    .dataframe tbody tr th:only-of-type {\n",
       "        vertical-align: middle;\n",
       "    }\n",
       "\n",
       "    .dataframe tbody tr th {\n",
       "        vertical-align: top;\n",
       "    }\n",
       "\n",
       "    .dataframe thead th {\n",
       "        text-align: right;\n",
       "    }\n",
       "</style>\n",
       "<table border=\"1\" class=\"dataframe\">\n",
       "  <thead>\n",
       "    <tr style=\"text-align: right;\">\n",
       "      <th></th>\n",
       "      <th></th>\n",
       "      <th>datadate</th>\n",
       "      <th>dtdate</th>\n",
       "      <th>permco</th>\n",
       "      <th>iid</th>\n",
       "      <th>gvkey</th>\n",
       "      <th>cusip</th>\n",
       "      <th>cik</th>\n",
       "      <th>tic</th>\n",
       "      <th>fyear</th>\n",
       "      <th>fyr</th>\n",
       "      <th>...</th>\n",
       "      <th>intan</th>\n",
       "      <th>pi</th>\n",
       "      <th>txfo</th>\n",
       "      <th>pifo</th>\n",
       "      <th>xpp</th>\n",
       "      <th>drc</th>\n",
       "      <th>drlt</th>\n",
       "      <th>ap</th>\n",
       "      <th>xacc</th>\n",
       "      <th>itcb</th>\n",
       "    </tr>\n",
       "    <tr>\n",
       "      <th>permno</th>\n",
       "      <th>Ydate</th>\n",
       "      <th></th>\n",
       "      <th></th>\n",
       "      <th></th>\n",
       "      <th></th>\n",
       "      <th></th>\n",
       "      <th></th>\n",
       "      <th></th>\n",
       "      <th></th>\n",
       "      <th></th>\n",
       "      <th></th>\n",
       "      <th></th>\n",
       "      <th></th>\n",
       "      <th></th>\n",
       "      <th></th>\n",
       "      <th></th>\n",
       "      <th></th>\n",
       "      <th></th>\n",
       "      <th></th>\n",
       "      <th></th>\n",
       "      <th></th>\n",
       "      <th></th>\n",
       "    </tr>\n",
       "  </thead>\n",
       "  <tbody>\n",
       "  </tbody>\n",
       "</table>\n",
       "<p>0 rows × 85 columns</p>\n",
       "</div>"
      ],
      "text/plain": [
       "Empty DataFrame\n",
       "Columns: [datadate, dtdate, permco, iid, gvkey, cusip, cik, tic, fyear, fyr, naicsh, sich, exchg, lt, at, txditc, pstkl, pstkrv, pstk, csho, ajex, rdip, act, dvc, xad, seq, che, lct, dlc, ib, dvp, txdi, dp, txp, oancf, ivncf, fincf, dltt, mib, ceq, invt, cogs, revt, sale, capx, xrd, txdb, prcc_f, sstk, prstkc, dltis, dltr, emp, dd1, ppegt, ppent, xint, txt, sppe, gdwl, xrent, re, dvpsx_f, tstk, wcap, rect, xsga, aqc, oibdp, dpact, fic, ni, ivao, ivst, dv, intan, pi, txfo, pifo, xpp, drc, drlt, ap, xacc, itcb]\n",
       "Index: []\n",
       "\n",
       "[0 rows x 85 columns]"
      ]
     },
     "execution_count": null,
     "metadata": {},
     "output_type": "execute_result"
    }
   ],
   "source": [
    "#| eval: false\n",
    "df.head(0)"
   ]
  },
  {
   "cell_type": "code",
   "execution_count": null,
   "metadata": {},
   "outputs": [],
   "source": [
    "#| export\n",
    "def book_equity(df: pd.DataFrame=None, # If None, downloads (and cleans) only required vars\n",
    "                add_itcb=False,\n",
    "                return_metadata: bool=False # If true, just returns a list of the required variables\n",
    "                ) -> pd.DataFrame:\n",
    "\n",
    "    metadata = {'inputs': {'wrds.compa.clean()': ['at', 'lt', 'seq', 'ceq', 'txditc', 'pstk', 'pstkrv', 'pstkl', 'itcb']},\n",
    "                'outputs': {'wrds.compa.book_equity()': ['bookeq','shreq','pref_stock']},\n",
    "                'labels': {'bookeq': 'Book equity', 'shreq': 'Shareholder equity', 'pref_stock': 'Preferred stock'}\n",
    "    }      \n",
    "    if return_metadata: return metadata\n",
    "\n",
    "    reqs = metadata['inputs']['wrds.compa.clean()']\n",
    "    if df is None: df = clean(vars=reqs)\n",
    "    df = df[reqs].copy()\n",
    "\n",
    "    df['pstk'] = df['pstk'].fillna(0)\n",
    "    df['pref_stock'] = np.where(df['pstkrv'].isnull(), df['pstkl'], df['pstkrv'])\n",
    "    df['pref_stock'] = np.where(df['pref_stock'].isnull(),df['pstk'], df['pref_stock'])\n",
    "\n",
    "    df['shreq'] = np.where(df['seq'].isnull(), df['ceq'] + df['pstk'], df['seq'])\n",
    "    df['shreq'] = np.where(df['shreq'].isnull(), df['at'] - df['lt'], df['shreq'])\n",
    "\n",
    "    df['bookeq'] = df['shreq'] + df['txditc'].fillna(0) - df['pref_stock']\n",
    "    if add_itcb: df['bookeq'] = df['bookeq'] + df['itcb'].fillna(0)\n",
    "    \n",
    "    return df[metadata['outputs']['wrds.compa.book_equity()']].copy()"
   ]
  },
  {
   "cell_type": "code",
   "execution_count": null,
   "metadata": {},
   "outputs": [
    {
     "data": {
      "text/plain": [
       "{'inputs': {'wrds.compa.clean()': ['at',\n",
       "   'lt',\n",
       "   'seq',\n",
       "   'ceq',\n",
       "   'txditc',\n",
       "   'pstk',\n",
       "   'pstkrv',\n",
       "   'pstkl',\n",
       "   'itcb']},\n",
       " 'outputs': {'wrds.compa.book_equity()': ['bookeq', 'shreq', 'pref_stock']},\n",
       " 'labels': {'bookeq': 'Book equity',\n",
       "  'shreq': 'Shareholder equity',\n",
       "  'pref_stock': 'Preferred stock'}}"
      ]
     },
     "execution_count": null,
     "metadata": {},
     "output_type": "execute_result"
    }
   ],
   "source": [
    "#| eval: false\n",
    "book_equity(return_metadata=True)"
   ]
  },
  {
   "cell_type": "code",
   "execution_count": null,
   "metadata": {},
   "outputs": [
    {
     "ename": "NameError",
     "evalue": "name 'df' is not defined",
     "output_type": "error",
     "traceback": [
      "\u001b[0;31m---------------------------------------------------------------------------\u001b[0m",
      "\u001b[0;31mNameError\u001b[0m                                 Traceback (most recent call last)",
      "Cell \u001b[0;32mIn[21], line 2\u001b[0m\n\u001b[1;32m      1\u001b[0m \u001b[39m#| eval: false\u001b[39;00m\n\u001b[0;32m----> 2\u001b[0m beq \u001b[39m=\u001b[39m book_equity(df)\n",
      "\u001b[0;31mNameError\u001b[0m: name 'df' is not defined"
     ]
    }
   ],
   "source": [
    "#| eval: false\n",
    "beq = book_equity(df)"
   ]
  },
  {
   "cell_type": "code",
   "execution_count": null,
   "metadata": {},
   "outputs": [
    {
     "data": {
      "text/html": [
       "<div>\n",
       "<style scoped>\n",
       "    .dataframe tbody tr th:only-of-type {\n",
       "        vertical-align: middle;\n",
       "    }\n",
       "\n",
       "    .dataframe tbody tr th {\n",
       "        vertical-align: top;\n",
       "    }\n",
       "\n",
       "    .dataframe thead th {\n",
       "        text-align: right;\n",
       "    }\n",
       "</style>\n",
       "<table border=\"1\" class=\"dataframe\">\n",
       "  <thead>\n",
       "    <tr style=\"text-align: right;\">\n",
       "      <th></th>\n",
       "      <th></th>\n",
       "      <th>bookeq</th>\n",
       "      <th>shreq</th>\n",
       "      <th>pref_stock</th>\n",
       "    </tr>\n",
       "    <tr>\n",
       "      <th>permno</th>\n",
       "      <th>Ydate</th>\n",
       "      <th></th>\n",
       "      <th></th>\n",
       "      <th></th>\n",
       "    </tr>\n",
       "  </thead>\n",
       "  <tbody>\n",
       "  </tbody>\n",
       "</table>\n",
       "</div>"
      ],
      "text/plain": [
       "Empty DataFrame\n",
       "Columns: [bookeq, shreq, pref_stock]\n",
       "Index: []"
      ]
     },
     "execution_count": null,
     "metadata": {},
     "output_type": "execute_result"
    }
   ],
   "source": [
    "#| eval: false\n",
    "beq.head(0)"
   ]
  },
  {
   "cell_type": "code",
   "execution_count": null,
   "metadata": {},
   "outputs": [
    {
     "name": "stdout",
     "output_type": "stream",
     "text": [
      "Loading library list...\n",
      "Done\n"
     ]
    }
   ],
   "source": [
    "#| eval: false\n",
    "beq_from_scratch = book_equity()"
   ]
  },
  {
   "cell_type": "code",
   "execution_count": null,
   "metadata": {},
   "outputs": [
    {
     "data": {
      "text/html": [
       "<div>\n",
       "<style scoped>\n",
       "    .dataframe tbody tr th:only-of-type {\n",
       "        vertical-align: middle;\n",
       "    }\n",
       "\n",
       "    .dataframe tbody tr th {\n",
       "        vertical-align: top;\n",
       "    }\n",
       "\n",
       "    .dataframe thead th {\n",
       "        text-align: right;\n",
       "    }\n",
       "</style>\n",
       "<table border=\"1\" class=\"dataframe\">\n",
       "  <thead>\n",
       "    <tr style=\"text-align: right;\">\n",
       "      <th></th>\n",
       "      <th></th>\n",
       "      <th>bookeq</th>\n",
       "      <th>shreq</th>\n",
       "      <th>pref_stock</th>\n",
       "    </tr>\n",
       "    <tr>\n",
       "      <th>permno</th>\n",
       "      <th>Ydate</th>\n",
       "      <th></th>\n",
       "      <th></th>\n",
       "      <th></th>\n",
       "    </tr>\n",
       "  </thead>\n",
       "  <tbody>\n",
       "  </tbody>\n",
       "</table>\n",
       "</div>"
      ],
      "text/plain": [
       "Empty DataFrame\n",
       "Columns: [bookeq, shreq, pref_stock]\n",
       "Index: []"
      ]
     },
     "execution_count": null,
     "metadata": {},
     "output_type": "execute_result"
    }
   ],
   "source": [
    "#| eval: false\n",
    "beq_from_scratch.head(0)"
   ]
  },
  {
   "cell_type": "code",
   "execution_count": null,
   "metadata": {},
   "outputs": [],
   "source": [
    "#| export \n",
    "def investment_vars(df: pd.DataFrame=None, # If None, downloads (and cleans) only required vars \n",
    "                    list_reqs: bool=False # If true, just returns a list of the required variables\n",
    "                    ) -> pd.DataFrame:\n",
    "    \n",
    "    reqs = ['ppent','capx','at']\n",
    "    if list_reqs: return reqs\n",
    "    df = df[reqs].copy()\n",
    "\n",
    "    df['ppentpch'] = pdm.rpct_change(df['ppent'])\n",
    "    df['capx2la'] = df['capx'] / pdm.lag(df['at'])\n",
    "\n",
    "    return df[['ppentpch','capx2la']].copy()"
   ]
  },
  {
   "cell_type": "code",
   "execution_count": null,
   "metadata": {},
   "outputs": [],
   "source": [
    "#| eval: false\n",
    "inv = investment_vars(df)"
   ]
  },
  {
   "cell_type": "code",
   "execution_count": null,
   "metadata": {},
   "outputs": [
    {
     "data": {
      "text/html": [
       "<div>\n",
       "<style scoped>\n",
       "    .dataframe tbody tr th:only-of-type {\n",
       "        vertical-align: middle;\n",
       "    }\n",
       "\n",
       "    .dataframe tbody tr th {\n",
       "        vertical-align: top;\n",
       "    }\n",
       "\n",
       "    .dataframe thead th {\n",
       "        text-align: right;\n",
       "    }\n",
       "</style>\n",
       "<table border=\"1\" class=\"dataframe\">\n",
       "  <thead>\n",
       "    <tr style=\"text-align: right;\">\n",
       "      <th></th>\n",
       "      <th></th>\n",
       "      <th>ppentpch</th>\n",
       "      <th>capx2la</th>\n",
       "    </tr>\n",
       "    <tr>\n",
       "      <th>permno</th>\n",
       "      <th>Ydate</th>\n",
       "      <th></th>\n",
       "      <th></th>\n",
       "    </tr>\n",
       "  </thead>\n",
       "  <tbody>\n",
       "  </tbody>\n",
       "</table>\n",
       "</div>"
      ],
      "text/plain": [
       "Empty DataFrame\n",
       "Columns: [ppentpch, capx2la]\n",
       "Index: []"
      ]
     },
     "execution_count": null,
     "metadata": {},
     "output_type": "execute_result"
    }
   ],
   "source": [
    "#| eval: false\n",
    "inv.head(0)"
   ]
  },
  {
   "cell_type": "code",
   "execution_count": null,
   "metadata": {},
   "outputs": [],
   "source": [
    "#| export \n",
    "def profitability_vars(df: pd.DataFrame, \n",
    "                    list_reqs: bool=False # If true, just returns a list of the required variables\n",
    "                    ) -> pd.DataFrame:\n",
    "    \n",
    "    reqs = ['ib','at']\n",
    "    if list_reqs: return reqs\n",
    "    df = df[reqs].copy()\n",
    "\n",
    "    df['roa'] = df['ib'] / df['at']\n",
    "\n",
    "    return df[['roa']].copy()"
   ]
  },
  {
   "cell_type": "code",
   "execution_count": null,
   "metadata": {},
   "outputs": [],
   "source": [
    "#| eval: false\n",
    "prof = profitability_vars(df)"
   ]
  },
  {
   "cell_type": "code",
   "execution_count": null,
   "metadata": {},
   "outputs": [
    {
     "data": {
      "text/html": [
       "<div>\n",
       "<style scoped>\n",
       "    .dataframe tbody tr th:only-of-type {\n",
       "        vertical-align: middle;\n",
       "    }\n",
       "\n",
       "    .dataframe tbody tr th {\n",
       "        vertical-align: top;\n",
       "    }\n",
       "\n",
       "    .dataframe thead th {\n",
       "        text-align: right;\n",
       "    }\n",
       "</style>\n",
       "<table border=\"1\" class=\"dataframe\">\n",
       "  <thead>\n",
       "    <tr style=\"text-align: right;\">\n",
       "      <th></th>\n",
       "      <th></th>\n",
       "      <th>roa</th>\n",
       "    </tr>\n",
       "    <tr>\n",
       "      <th>permno</th>\n",
       "      <th>Ydate</th>\n",
       "      <th></th>\n",
       "    </tr>\n",
       "  </thead>\n",
       "  <tbody>\n",
       "  </tbody>\n",
       "</table>\n",
       "</div>"
      ],
      "text/plain": [
       "Empty DataFrame\n",
       "Columns: [roa]\n",
       "Index: []"
      ]
     },
     "execution_count": null,
     "metadata": {},
     "output_type": "execute_result"
    }
   ],
   "source": [
    "#| eval: false\n",
    "prof.head(0)"
   ]
  },
  {
   "cell_type": "code",
   "execution_count": null,
   "metadata": {},
   "outputs": [],
   "source": [
    "#| export \n",
    "def cashflow_vars(df: pd.DataFrame, \n",
    "                    list_reqs: bool=False # If true, just returns a list of the required variables\n",
    "                    ) -> pd.DataFrame:\n",
    "    \n",
    "    reqs = ['dtdate','oancf','ib','dp','at']\n",
    "    if list_reqs: return reqs\n",
    "    df = df[reqs].copy()\n",
    "\n",
    "    df['cflow2la_is'] = (df['ib']+df['dp']) / pdm.lag(df['at'])\n",
    "    df['cflow2la_cfs'] = df['oancf'] / pdm.lag(df['at'])\n",
    "    df['cflow2la_full'] = np.where(df.dtdate.dt.year<1987, df['cflow2la_is'], df['cflow2la_cfs'])\n",
    "    \n",
    "    return df[['cflow2la_is', 'cflow2la_cfs', 'cflow2la_full']].copy()"
   ]
  },
  {
   "cell_type": "code",
   "execution_count": null,
   "metadata": {},
   "outputs": [],
   "source": [
    "#| eval: false\n",
    "cflow = cashflow_vars(df)"
   ]
  },
  {
   "cell_type": "code",
   "execution_count": null,
   "metadata": {},
   "outputs": [
    {
     "data": {
      "text/html": [
       "<div>\n",
       "<style scoped>\n",
       "    .dataframe tbody tr th:only-of-type {\n",
       "        vertical-align: middle;\n",
       "    }\n",
       "\n",
       "    .dataframe tbody tr th {\n",
       "        vertical-align: top;\n",
       "    }\n",
       "\n",
       "    .dataframe thead th {\n",
       "        text-align: right;\n",
       "    }\n",
       "</style>\n",
       "<table border=\"1\" class=\"dataframe\">\n",
       "  <thead>\n",
       "    <tr style=\"text-align: right;\">\n",
       "      <th></th>\n",
       "      <th></th>\n",
       "      <th>cflow2la_is</th>\n",
       "      <th>cflow2la_cfs</th>\n",
       "      <th>cflow2la_full</th>\n",
       "    </tr>\n",
       "    <tr>\n",
       "      <th>permno</th>\n",
       "      <th>Ydate</th>\n",
       "      <th></th>\n",
       "      <th></th>\n",
       "      <th></th>\n",
       "    </tr>\n",
       "  </thead>\n",
       "  <tbody>\n",
       "  </tbody>\n",
       "</table>\n",
       "</div>"
      ],
      "text/plain": [
       "Empty DataFrame\n",
       "Columns: [cflow2la_is, cflow2la_cfs, cflow2la_full]\n",
       "Index: []"
      ]
     },
     "execution_count": null,
     "metadata": {},
     "output_type": "execute_result"
    }
   ],
   "source": [
    "#| eval: false\n",
    "cflow.head(0)"
   ]
  },
  {
   "cell_type": "code",
   "execution_count": null,
   "metadata": {},
   "outputs": [],
   "source": [
    "#| export \n",
    "def liquidity_vars(df: pd.DataFrame, \n",
    "                    list_reqs: bool=False # If true, just returns a list of the required variables\n",
    "                    ) -> pd.DataFrame:\n",
    "    \n",
    "    reqs = ['che','at']\n",
    "    if list_reqs: return reqs\n",
    "    df = df[reqs].copy()\n",
    "\n",
    "    df['cash2a'] = df['che'] / df['at']\n",
    "\n",
    "    return df[['cash2a']].copy()"
   ]
  },
  {
   "cell_type": "code",
   "execution_count": null,
   "metadata": {},
   "outputs": [],
   "source": [
    "#| eval: false\n",
    "liq = liquidity_vars(df)"
   ]
  },
  {
   "cell_type": "code",
   "execution_count": null,
   "metadata": {},
   "outputs": [
    {
     "data": {
      "text/html": [
       "<div>\n",
       "<style scoped>\n",
       "    .dataframe tbody tr th:only-of-type {\n",
       "        vertical-align: middle;\n",
       "    }\n",
       "\n",
       "    .dataframe tbody tr th {\n",
       "        vertical-align: top;\n",
       "    }\n",
       "\n",
       "    .dataframe thead th {\n",
       "        text-align: right;\n",
       "    }\n",
       "</style>\n",
       "<table border=\"1\" class=\"dataframe\">\n",
       "  <thead>\n",
       "    <tr style=\"text-align: right;\">\n",
       "      <th></th>\n",
       "      <th></th>\n",
       "      <th>cash2a</th>\n",
       "    </tr>\n",
       "    <tr>\n",
       "      <th>permno</th>\n",
       "      <th>Ydate</th>\n",
       "      <th></th>\n",
       "    </tr>\n",
       "  </thead>\n",
       "  <tbody>\n",
       "  </tbody>\n",
       "</table>\n",
       "</div>"
      ],
      "text/plain": [
       "Empty DataFrame\n",
       "Columns: [cash2a]\n",
       "Index: []"
      ]
     },
     "execution_count": null,
     "metadata": {},
     "output_type": "execute_result"
    }
   ],
   "source": [
    "#| eval: false\n",
    "liq.head(0)"
   ]
  },
  {
   "cell_type": "code",
   "execution_count": null,
   "metadata": {},
   "outputs": [],
   "source": [
    "#| export \n",
    "def leverage_vars(df: pd.DataFrame, \n",
    "                    list_reqs: bool=False # If true, just returns a list of the required variables\n",
    "                    ) -> pd.DataFrame:\n",
    "    \n",
    "    reqs = ['dltt','dlc','at']\n",
    "    if list_reqs: return reqs\n",
    "    df = df[reqs].copy()\n",
    "\n",
    "    df['booklev'] = (df['dltt'] + df['dlc']) / df['at']\n",
    "    df.loc[df.booklev<0, 'booklev'] = 0\n",
    "    df.loc[df.booklev>1, 'booklev'] = 1\n",
    "        \n",
    "    return df[['booklev']].copy()"
   ]
  },
  {
   "cell_type": "code",
   "execution_count": null,
   "metadata": {},
   "outputs": [],
   "source": [
    "#| eval: false\n",
    "lev = leverage_vars(df)"
   ]
  },
  {
   "cell_type": "code",
   "execution_count": null,
   "metadata": {},
   "outputs": [
    {
     "data": {
      "text/html": [
       "<div>\n",
       "<style scoped>\n",
       "    .dataframe tbody tr th:only-of-type {\n",
       "        vertical-align: middle;\n",
       "    }\n",
       "\n",
       "    .dataframe tbody tr th {\n",
       "        vertical-align: top;\n",
       "    }\n",
       "\n",
       "    .dataframe thead th {\n",
       "        text-align: right;\n",
       "    }\n",
       "</style>\n",
       "<table border=\"1\" class=\"dataframe\">\n",
       "  <thead>\n",
       "    <tr style=\"text-align: right;\">\n",
       "      <th></th>\n",
       "      <th></th>\n",
       "      <th>booklev</th>\n",
       "    </tr>\n",
       "    <tr>\n",
       "      <th>permno</th>\n",
       "      <th>Ydate</th>\n",
       "      <th></th>\n",
       "    </tr>\n",
       "  </thead>\n",
       "  <tbody>\n",
       "  </tbody>\n",
       "</table>\n",
       "</div>"
      ],
      "text/plain": [
       "Empty DataFrame\n",
       "Columns: [booklev]\n",
       "Index: []"
      ]
     },
     "execution_count": null,
     "metadata": {},
     "output_type": "execute_result"
    }
   ],
   "source": [
    "#| eval: false\n",
    "lev.head(0)"
   ]
  },
  {
   "cell_type": "code",
   "execution_count": null,
   "metadata": {},
   "outputs": [],
   "source": [
    "#| export \n",
    "def payout_vars(df: pd.DataFrame, \n",
    "                    list_reqs: bool=False # If true, just returns a list of the required variables\n",
    "                    ) -> pd.DataFrame:\n",
    "    \n",
    "    reqs = ['dvc','prstkc','at']\n",
    "    if list_reqs: return reqs\n",
    "    df = df[reqs].copy()\n",
    "\n",
    "    df['div2la'] = df['dvc'].fillna(0) / pdm.lag(df['at'])\n",
    "    df['rep2la'] = df['prstkc'].fillna(0) / pdm.lag(df['at'])\n",
    "\n",
    "    return df[['div2la','rep2la']].copy()"
   ]
  },
  {
   "cell_type": "code",
   "execution_count": null,
   "metadata": {},
   "outputs": [],
   "source": [
    "#| eval: false\n",
    "payout = payout_vars(df)"
   ]
  },
  {
   "cell_type": "code",
   "execution_count": null,
   "metadata": {},
   "outputs": [
    {
     "data": {
      "text/html": [
       "<div>\n",
       "<style scoped>\n",
       "    .dataframe tbody tr th:only-of-type {\n",
       "        vertical-align: middle;\n",
       "    }\n",
       "\n",
       "    .dataframe tbody tr th {\n",
       "        vertical-align: top;\n",
       "    }\n",
       "\n",
       "    .dataframe thead th {\n",
       "        text-align: right;\n",
       "    }\n",
       "</style>\n",
       "<table border=\"1\" class=\"dataframe\">\n",
       "  <thead>\n",
       "    <tr style=\"text-align: right;\">\n",
       "      <th></th>\n",
       "      <th></th>\n",
       "      <th>div2la</th>\n",
       "      <th>rep2la</th>\n",
       "    </tr>\n",
       "    <tr>\n",
       "      <th>permno</th>\n",
       "      <th>Ydate</th>\n",
       "      <th></th>\n",
       "      <th></th>\n",
       "    </tr>\n",
       "  </thead>\n",
       "  <tbody>\n",
       "  </tbody>\n",
       "</table>\n",
       "</div>"
      ],
      "text/plain": [
       "Empty DataFrame\n",
       "Columns: [div2la, rep2la]\n",
       "Index: []"
      ]
     },
     "execution_count": null,
     "metadata": {},
     "output_type": "execute_result"
    }
   ],
   "source": [
    "#| eval: false\n",
    "payout.head(0)"
   ]
  },
  {
   "cell_type": "code",
   "execution_count": null,
   "metadata": {},
   "outputs": [],
   "source": [
    "#| export \n",
    "def value_vars(df: pd.DataFrame, \n",
    "                list_reqs: bool=False # If true, just returns a list of the required variables\n",
    "                ) -> pd.DataFrame:\n",
    "    \n",
    "    reqs = ['at','prcc_f','csho'] + [x for x in book_equity(list_reqs=True) if x not in ['at','prcc_f','csho']]\n",
    "    if list_reqs: return reqs\n",
    "    df = df[reqs].copy()\n",
    "\n",
    "    beq = book_equity(df)[['bookeq']].copy()\n",
    "    df = df.join(beq)\n",
    "\n",
    "    df['tobinq'] = (df['at'] - df['bookeq'] + df['prcc_f'] * df['csho']) / df['at']\n",
    "\n",
    "    return  df[['tobinq']].copy()"
   ]
  },
  {
   "cell_type": "code",
   "execution_count": null,
   "metadata": {},
   "outputs": [],
   "source": [
    "#| eval: false\n",
    "tobinq = value_vars(df)"
   ]
  },
  {
   "cell_type": "code",
   "execution_count": null,
   "metadata": {},
   "outputs": [
    {
     "data": {
      "text/html": [
       "<div>\n",
       "<style scoped>\n",
       "    .dataframe tbody tr th:only-of-type {\n",
       "        vertical-align: middle;\n",
       "    }\n",
       "\n",
       "    .dataframe tbody tr th {\n",
       "        vertical-align: top;\n",
       "    }\n",
       "\n",
       "    .dataframe thead th {\n",
       "        text-align: right;\n",
       "    }\n",
       "</style>\n",
       "<table border=\"1\" class=\"dataframe\">\n",
       "  <thead>\n",
       "    <tr style=\"text-align: right;\">\n",
       "      <th></th>\n",
       "      <th></th>\n",
       "      <th>tobinq</th>\n",
       "    </tr>\n",
       "    <tr>\n",
       "      <th>permno</th>\n",
       "      <th>Ydate</th>\n",
       "      <th></th>\n",
       "    </tr>\n",
       "  </thead>\n",
       "  <tbody>\n",
       "  </tbody>\n",
       "</table>\n",
       "</div>"
      ],
      "text/plain": [
       "Empty DataFrame\n",
       "Columns: [tobinq]\n",
       "Index: []"
      ]
     },
     "execution_count": null,
     "metadata": {},
     "output_type": "execute_result"
    }
   ],
   "source": [
    "#| eval: false\n",
    "tobinq.head(0)"
   ]
  },
  {
   "cell_type": "code",
   "execution_count": null,
   "metadata": {},
   "outputs": [],
   "source": [
    "#| export\n",
    "def issuance_vars(df: pd.DataFrame, \n",
    "                list_reqs: bool=False # If true, just returns a list of the required variables\n",
    "                ) -> pd.DataFrame:\n",
    "    \n",
    "    reqs_subset = ['at','sstk','prstkc','dltis','dltr', 're', 'dlc','dltt']\n",
    "    reqs = reqs_subset + [x for x in book_equity(list_reqs=True) if x not in reqs_subset]\n",
    "    if list_reqs: return reqs\n",
    "    df = df[reqs].copy()\n",
    "\n",
    "    beq = book_equity(df)[['bookeq']].copy()\n",
    "    df = df.join(beq)\n",
    "    \n",
    "    df['lag_at'] = pdm.lag(df['at'])\n",
    "\n",
    "    df['equityiss_cfs'] = (df['sstk'].fillna(0) - df['prstkc'].fillna(0)) / df['lag_at']\n",
    "    df['debtiss_cfs'] = (df['dltis'].fillna(0) - df['dltr'].fillna(0)) / df['lag_at']\n",
    "\n",
    "    df['debtiss_bs'] = (pdm.rdiff(df['dltt']) + pdm.rdiff(df['dlc'].fillna(0))) / df['lag_at']\n",
    "\n",
    "    df['equityiss_tot'] = (pdm.rdiff(df['bookeq']) - pdm.rdiff(df['re'])) / df['lag_at']\n",
    "    df['debtiss_tot'] = (pdm.rdiff(df['at']) - pdm.rdiff(df['bookeq'])) / df['lag_at']\n",
    "\n",
    "    return df[['equityiss_tot','equityiss_cfs', 'debtiss_tot', 'debtiss_cfs', 'debtiss_bs']].copy()"
   ]
  },
  {
   "cell_type": "code",
   "execution_count": null,
   "metadata": {},
   "outputs": [],
   "source": [
    "#| eval: false\n",
    "iss = issuance_vars(df)"
   ]
  },
  {
   "cell_type": "code",
   "execution_count": null,
   "metadata": {},
   "outputs": [
    {
     "data": {
      "text/html": [
       "<div>\n",
       "<style scoped>\n",
       "    .dataframe tbody tr th:only-of-type {\n",
       "        vertical-align: middle;\n",
       "    }\n",
       "\n",
       "    .dataframe tbody tr th {\n",
       "        vertical-align: top;\n",
       "    }\n",
       "\n",
       "    .dataframe thead th {\n",
       "        text-align: right;\n",
       "    }\n",
       "</style>\n",
       "<table border=\"1\" class=\"dataframe\">\n",
       "  <thead>\n",
       "    <tr style=\"text-align: right;\">\n",
       "      <th></th>\n",
       "      <th></th>\n",
       "      <th>equityiss_tot</th>\n",
       "      <th>equityiss_cfs</th>\n",
       "      <th>debtiss_tot</th>\n",
       "      <th>debtiss_cfs</th>\n",
       "      <th>debtiss_bs</th>\n",
       "    </tr>\n",
       "    <tr>\n",
       "      <th>permno</th>\n",
       "      <th>Ydate</th>\n",
       "      <th></th>\n",
       "      <th></th>\n",
       "      <th></th>\n",
       "      <th></th>\n",
       "      <th></th>\n",
       "    </tr>\n",
       "  </thead>\n",
       "  <tbody>\n",
       "  </tbody>\n",
       "</table>\n",
       "</div>"
      ],
      "text/plain": [
       "Empty DataFrame\n",
       "Columns: [equityiss_tot, equityiss_cfs, debtiss_tot, debtiss_cfs, debtiss_bs]\n",
       "Index: []"
      ]
     },
     "execution_count": null,
     "metadata": {},
     "output_type": "execute_result"
    }
   ],
   "source": [
    "#| eval: false\n",
    "iss.head(0)"
   ]
  },
  {
   "cell_type": "code",
   "execution_count": null,
   "metadata": {},
   "outputs": [],
   "source": [
    "#| hide\n",
    "import nbdev; nbdev.nbdev_export()"
   ]
  }
 ],
 "metadata": {
  "kernelspec": {
   "display_name": "python3",
   "language": "python",
   "name": "python3"
  }
 },
 "nbformat": 4,
 "nbformat_minor": 2
}
