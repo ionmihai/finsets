{
 "cells": [
  {
   "attachments": {},
   "cell_type": "markdown",
   "metadata": {},
   "source": [
    "# compa\n",
    "\n",
    "> Retrieve and process data from WRDS Compustat Annual"
   ]
  },
  {
   "cell_type": "code",
   "execution_count": null,
   "metadata": {},
   "outputs": [],
   "source": [
    "#| default_exp wrds.compa"
   ]
  },
  {
   "cell_type": "code",
   "execution_count": null,
   "metadata": {},
   "outputs": [],
   "source": [
    "#|exports\n",
    "from __future__ import annotations\n",
    "from typing import List\n",
    "\n",
    "import pandas as pd\n",
    "import numpy as np\n",
    "\n",
    "import pandasmore as pdm\n",
    "from finsets.wrds import wrds_api"
   ]
  },
  {
   "cell_type": "code",
   "execution_count": null,
   "metadata": {},
   "outputs": [],
   "source": [
    "#| exports\n",
    "PROVIDER = 'Wharton Research Data Services (WRDS)'\n",
    "URL = 'https://wrds-www.wharton.upenn.edu/pages/get-data/center-research-security-prices-crsp/annual-update/crspcompustat-merged/fundamentals-annual/'\n",
    "LIBRARY = 'comp'\n",
    "TABLE = 'funda'\n",
    "LINK_LIBRARY = 'crsp'\n",
    "LINK_TABLE = 'ccmxpf_lnkhist'\n",
    "FREQ = 'A'\n",
    "MIN_YEAR = 1950\n",
    "MAX_YEAR = None\n",
    "ENTITY_ID_IN_RAW_DSET = 'permno'\n",
    "ENTITY_ID_IN_CLEAN_DSET = 'permno'\n",
    "TIME_VAR_IN_RAW_DSET = 'datadate'\n",
    "TIME_VAR_IN_CLEAN_DSET = 'Adate'"
   ]
  },
  {
   "cell_type": "code",
   "execution_count": null,
   "metadata": {},
   "outputs": [],
   "source": [
    "#| export\n",
    "def list_all_vars() -> pd.DataFrame:\n",
    "    \"Collects names of all available variables from WRDS f`{LIBRARY}.{TABLE}`\"\n",
    "\n",
    "    try:\n",
    "        db = wrds_api.Connection()\n",
    "        funda = db.describe_table(LIBRARY,TABLE).assign(wrds_library=LIBRARY, wrds_table=TABLE)\n",
    "    finally:\n",
    "        db.close()\n",
    "\n",
    "    return funda[['name','type','wrds_library','wrds_table']]"
   ]
  },
  {
   "cell_type": "code",
   "execution_count": null,
   "metadata": {},
   "outputs": [],
   "source": [
    "#| eval: false\n",
    "all_vars = list_all_vars()"
   ]
  },
  {
   "cell_type": "code",
   "execution_count": null,
   "metadata": {},
   "outputs": [
    {
     "data": {
      "text/plain": [
       "948"
      ]
     },
     "execution_count": null,
     "metadata": {},
     "output_type": "execute_result"
    }
   ],
   "source": [
    "#| eval: false\n",
    "all_vars.name.count()"
   ]
  },
  {
   "cell_type": "code",
   "execution_count": null,
   "metadata": {},
   "outputs": [],
   "source": [
    "#| export\n",
    "def default_raw_vars():\n",
    "    \"\"\"Defines default variables used in `get_raw_data` if none are specified.\"\"\"\n",
    "\n",
    "    return ['datadate', 'gvkey', 'cusip' ,'cik' ,'tic' ,'fyear' ,'fyr' ,'naicsh', 'sich' ,'exchg',  \n",
    "            'lt' ,'at' ,'txditc' ,'pstkl' ,'pstkrv' ,'pstk' ,'csho' ,'ajex' , 'rdip',\n",
    "            'act' ,'dvc' ,'xad','seq' ,'che' ,'lct' ,'dlc' ,'ib' ,'dvp' ,'txdi' ,'dp' ,\n",
    "            'txp' ,'oancf' ,'ivncf' ,'fincf' ,'dltt' ,'mib','ceq' ,'invt' ,'cogs' , 'revt',\n",
    "            'sale' ,'capx' ,'xrd' ,'txdb' ,'prcc_f' ,'sstk' ,'prstkc' ,'dltis' ,'dltr' ,'emp' ,\n",
    "            'dd1' ,'ppegt' ,'ppent' ,'xint' ,'txt' ,'sppe' ,'gdwl' ,'xrent' ,'re' ,'dvpsx_f' ,\n",
    "            'tstk' ,'wcap' ,'rect' ,'xsga' ,'aqc' ,'oibdp' ,'dpact' ,'fic' ,'ni' ,'ivao' ,'ivst' ,\n",
    "            'dv' , 'intan' ,'pi' ,'txfo' ,'pifo' ,'xpp' ,'drc' ,'drlt' ,'ap' ,'xacc' ,'itcb']             "
   ]
  },
  {
   "cell_type": "code",
   "execution_count": null,
   "metadata": {},
   "outputs": [
    {
     "name": "stdout",
     "output_type": "stream",
     "text": [
      "['datadate', 'gvkey', 'cusip', 'cik', 'tic', 'fyear', 'fyr', 'naicsh', 'sich', 'exchg', 'lt', 'at', 'txditc', 'pstkl', 'pstkrv', 'pstk', 'csho', 'ajex', 'rdip', 'act', 'dvc', 'xad', 'seq', 'che', 'lct', 'dlc', 'ib', 'dvp', 'txdi', 'dp', 'txp', 'oancf', 'ivncf', 'fincf', 'dltt', 'mib', 'ceq', 'invt', 'cogs', 'revt', 'sale', 'capx', 'xrd', 'txdb', 'prcc_f', 'sstk', 'prstkc', 'dltis', 'dltr', 'emp', 'dd1', 'ppegt', 'ppent', 'xint', 'txt', 'sppe', 'gdwl', 'xrent', 're', 'dvpsx_f', 'tstk', 'wcap', 'rect', 'xsga', 'aqc', 'oibdp', 'dpact', 'fic', 'ni', 'ivao', 'ivst', 'dv', 'intan', 'pi', 'txfo', 'pifo', 'xpp', 'drc', 'drlt', 'ap', 'xacc', 'itcb']\n"
     ]
    }
   ],
   "source": [
    "print(default_raw_vars())"
   ]
  },
  {
   "cell_type": "code",
   "execution_count": null,
   "metadata": {},
   "outputs": [],
   "source": [
    "#| export\n",
    "def parse_varlist(vars: List[str]|str=None, #list of variables requested by user\n",
    "                  req_vars: List[str] = ['gvkey', 'datadate'], #list of variables that will get downloaded, even if not in `vars`\n",
    "                  prefix: str='a.', #string to add in front of each variable name when we build the SQL string of variable names\n",
    "                  ) -> str:\n",
    "    \"\"\"Adds required variables to requested variables, validates them, and builds the SQL string with their names\"\"\"\n",
    "\n",
    "    if vars=='*': return f'{prefix}*' \n",
    "\n",
    "    # Build full list of variables that will be downloaded\n",
    "    if vars is None: vars = default_raw_vars()\n",
    "    if req_vars is None: req_vars = []\n",
    "    vars =  req_vars + [x for x in vars if x not in req_vars] #in case `vars` already contains some of the required variables\n",
    "\n",
    "    # Validate variables to be downloaded (make sure that they are in the target database)\n",
    "    valid_vars = list(list_all_vars().name)\n",
    "    invalid_vars = [v for v in vars if v not in valid_vars]\n",
    "    if invalid_vars: raise ValueError(f\"These vars are not in the database: {invalid_vars}\") \n",
    "\n",
    "    return ','.join([f'{prefix}{var_name}' for var_name in vars])"
   ]
  },
  {
   "cell_type": "code",
   "execution_count": null,
   "metadata": {},
   "outputs": [
    {
     "data": {
      "text/plain": [
       "'a.gvkey,a.datadate,a.at,a.lt'"
      ]
     },
     "execution_count": null,
     "metadata": {},
     "output_type": "execute_result"
    }
   ],
   "source": [
    "#| eval: false\n",
    "parse_varlist(['at','lt'])"
   ]
  },
  {
   "cell_type": "code",
   "execution_count": null,
   "metadata": {},
   "outputs": [],
   "source": [
    "#| export\n",
    "def get_raw_data(\n",
    "        vars: List[str]=None, # If None, downloads `default_raw_vars`; use '*' to get all available variables\n",
    "        nrows: int=None, #Number of rows to download. If None, full dataset will be downloaded\n",
    "        start_date: str=None, # Start date in MM/DD/YYYY format\n",
    "        end_date: str=None #End date in MM/DD/YYYY format\n",
    ") -> pd.DataFrame:\n",
    "    \"\"\"Downloads `vars` from `start_date` to `end_date` from WRDS `{LIBRARY}.{TABLE}` library and adds PERMNO and PERMCO as in CCM\"\"\"\n",
    " \n",
    "    vars = parse_varlist(vars, prefix='a.')\n",
    "\n",
    "    sql_string=f\"\"\"SELECT b.lpermno as permno, b.lpermco as permco, b.liid as iid, b.linkprim as linkprim, {vars}\n",
    "                    FROM {LIBRARY}.{TABLE} AS a\n",
    "                    INNER JOIN {LINK_LIBRARY}.{LINK_TABLE} AS b ON a.gvkey = b.gvkey\n",
    "                    WHERE datadate BETWEEN b.linkdt AND COALESCE(b.linkenddt, CURRENT_DATE)\n",
    "                            AND b.linktype IN ('LU','LC') \n",
    "                            AND indfmt='INDL' AND datafmt='STD' AND popsrc='D' AND consol='C'\n",
    "                \"\"\"\n",
    "    if start_date is not None: sql_string += r\" AND datadate >= %(start_date)s\"\n",
    "    if end_date is not None: sql_string += r\" AND datadate <= %(end_date)s\"\n",
    "    if nrows is not None: sql_string += r\" LIMIT %(nrows)s\"\n",
    "    \n",
    "    return wrds_api.download(sql_string,\n",
    "                             params={'start_date':start_date, 'end_date':end_date, 'nrows':nrows})"
   ]
  },
  {
   "cell_type": "markdown",
   "metadata": {},
   "source": [
    "The `get_raw_data` function will produce identical results to the ones we would obtain if we used the WRDS website (with the default options unchanged). \n",
    "\n",
    "It results in no `permno-datadate` duplicates, but there is a small number of `gvkey-datadate` duplicates (about 1% of the data) because each `permno` maps to a unique `gvkey+iid` value and some gvkeys have multiple share classes (different iid's). \n",
    "\n",
    "Finally, not that you might want to restrict yourself to `linkprim='P'` (i.e. links only to the primary equity security issued by the firm) which retains about 80% of the data, or `linkprim in ('P','C')` which retains 99% of the data. The latter also results in unique `gvkey-datadate` records which is why we use it as the default option in the `process_raw_data` function."
   ]
  },
  {
   "cell_type": "code",
   "execution_count": null,
   "metadata": {},
   "outputs": [
    {
     "data": {
      "text/html": [
       "<div>\n",
       "<style scoped>\n",
       "    .dataframe tbody tr th:only-of-type {\n",
       "        vertical-align: middle;\n",
       "    }\n",
       "\n",
       "    .dataframe tbody tr th {\n",
       "        vertical-align: top;\n",
       "    }\n",
       "\n",
       "    .dataframe thead th {\n",
       "        text-align: right;\n",
       "    }\n",
       "</style>\n",
       "<table border=\"1\" class=\"dataframe\">\n",
       "  <thead>\n",
       "    <tr style=\"text-align: right;\">\n",
       "      <th></th>\n",
       "      <th>permno</th>\n",
       "      <th>permco</th>\n",
       "      <th>iid</th>\n",
       "      <th>linkprim</th>\n",
       "      <th>gvkey</th>\n",
       "      <th>datadate</th>\n",
       "      <th>fyear</th>\n",
       "      <th>indfmt</th>\n",
       "      <th>consol</th>\n",
       "      <th>popsrc</th>\n",
       "      <th>...</th>\n",
       "      <th>prcc_f</th>\n",
       "      <th>prch_f</th>\n",
       "      <th>prcl_f</th>\n",
       "      <th>adjex_f</th>\n",
       "      <th>rank</th>\n",
       "      <th>au</th>\n",
       "      <th>auop</th>\n",
       "      <th>auopic</th>\n",
       "      <th>ceoso</th>\n",
       "      <th>cfoso</th>\n",
       "    </tr>\n",
       "  </thead>\n",
       "  <tbody>\n",
       "    <tr>\n",
       "      <th>0</th>\n",
       "      <td>25881.0</td>\n",
       "      <td>23369.0</td>\n",
       "      <td>01</td>\n",
       "      <td>P</td>\n",
       "      <td>001000</td>\n",
       "      <td>1970-12-31</td>\n",
       "      <td>1970.0</td>\n",
       "      <td>INDL</td>\n",
       "      <td>C</td>\n",
       "      <td>D</td>\n",
       "      <td>...</td>\n",
       "      <td>10.0</td>\n",
       "      <td>10.875</td>\n",
       "      <td>7.5</td>\n",
       "      <td>1.0</td>\n",
       "      <td>None</td>\n",
       "      <td>None</td>\n",
       "      <td>None</td>\n",
       "      <td>None</td>\n",
       "      <td>None</td>\n",
       "      <td>None</td>\n",
       "    </tr>\n",
       "  </tbody>\n",
       "</table>\n",
       "<p>1 rows × 952 columns</p>\n",
       "</div>"
      ],
      "text/plain": [
       "    permno   permco iid linkprim   gvkey    datadate   fyear indfmt consol  \\\n",
       "0  25881.0  23369.0  01        P  001000  1970-12-31  1970.0   INDL      C   \n",
       "\n",
       "  popsrc  ... prcc_f  prch_f prcl_f adjex_f  rank    au  auop auopic  ceoso  \\\n",
       "0      D  ...   10.0  10.875    7.5     1.0  None  None  None   None   None   \n",
       "\n",
       "   cfoso  \n",
       "0   None  \n",
       "\n",
       "[1 rows x 952 columns]"
      ]
     },
     "execution_count": null,
     "metadata": {},
     "output_type": "execute_result"
    }
   ],
   "source": [
    "#| eval: false\n",
    "r = get_raw_data(vars='*', nrows=1)\n",
    "r"
   ]
  },
  {
   "cell_type": "code",
   "execution_count": null,
   "metadata": {},
   "outputs": [],
   "source": [
    "#| eval: false\n",
    "raw = get_raw_data(vars = ['at', 'lt'], start_date='01/01/2021', end_date='01/01/2022', nrows=1)"
   ]
  },
  {
   "cell_type": "code",
   "execution_count": null,
   "metadata": {},
   "outputs": [
    {
     "data": {
      "text/html": [
       "<div>\n",
       "<style scoped>\n",
       "    .dataframe tbody tr th:only-of-type {\n",
       "        vertical-align: middle;\n",
       "    }\n",
       "\n",
       "    .dataframe tbody tr th {\n",
       "        vertical-align: top;\n",
       "    }\n",
       "\n",
       "    .dataframe thead th {\n",
       "        text-align: right;\n",
       "    }\n",
       "</style>\n",
       "<table border=\"1\" class=\"dataframe\">\n",
       "  <thead>\n",
       "    <tr style=\"text-align: right;\">\n",
       "      <th></th>\n",
       "      <th>permno</th>\n",
       "      <th>permco</th>\n",
       "      <th>iid</th>\n",
       "      <th>linkprim</th>\n",
       "      <th>gvkey</th>\n",
       "      <th>datadate</th>\n",
       "      <th>at</th>\n",
       "      <th>lt</th>\n",
       "    </tr>\n",
       "  </thead>\n",
       "  <tbody>\n",
       "  </tbody>\n",
       "</table>\n",
       "</div>"
      ],
      "text/plain": [
       "Empty DataFrame\n",
       "Columns: [permno, permco, iid, linkprim, gvkey, datadate, at, lt]\n",
       "Index: []"
      ]
     },
     "execution_count": null,
     "metadata": {},
     "output_type": "execute_result"
    }
   ],
   "source": [
    "#| eval: false\n",
    "raw.head(0)"
   ]
  },
  {
   "cell_type": "code",
   "execution_count": null,
   "metadata": {},
   "outputs": [],
   "source": [
    "#| eval: false\n",
    "raw = get_raw_data(start_date='01/01/2021', end_date='01/01/2023')"
   ]
  },
  {
   "cell_type": "code",
   "execution_count": null,
   "metadata": {},
   "outputs": [
    {
     "data": {
      "text/html": [
       "<div>\n",
       "<style scoped>\n",
       "    .dataframe tbody tr th:only-of-type {\n",
       "        vertical-align: middle;\n",
       "    }\n",
       "\n",
       "    .dataframe tbody tr th {\n",
       "        vertical-align: top;\n",
       "    }\n",
       "\n",
       "    .dataframe thead th {\n",
       "        text-align: right;\n",
       "    }\n",
       "</style>\n",
       "<table border=\"1\" class=\"dataframe\">\n",
       "  <thead>\n",
       "    <tr style=\"text-align: right;\">\n",
       "      <th></th>\n",
       "      <th>permno</th>\n",
       "      <th>permco</th>\n",
       "      <th>iid</th>\n",
       "      <th>linkprim</th>\n",
       "      <th>gvkey</th>\n",
       "      <th>datadate</th>\n",
       "      <th>cusip</th>\n",
       "      <th>cik</th>\n",
       "      <th>tic</th>\n",
       "      <th>fyear</th>\n",
       "      <th>...</th>\n",
       "      <th>intan</th>\n",
       "      <th>pi</th>\n",
       "      <th>txfo</th>\n",
       "      <th>pifo</th>\n",
       "      <th>xpp</th>\n",
       "      <th>drc</th>\n",
       "      <th>drlt</th>\n",
       "      <th>ap</th>\n",
       "      <th>xacc</th>\n",
       "      <th>itcb</th>\n",
       "    </tr>\n",
       "  </thead>\n",
       "  <tbody>\n",
       "  </tbody>\n",
       "</table>\n",
       "<p>0 rows × 86 columns</p>\n",
       "</div>"
      ],
      "text/plain": [
       "Empty DataFrame\n",
       "Columns: [permno, permco, iid, linkprim, gvkey, datadate, cusip, cik, tic, fyear, fyr, naicsh, sich, exchg, lt, at, txditc, pstkl, pstkrv, pstk, csho, ajex, rdip, act, dvc, xad, seq, che, lct, dlc, ib, dvp, txdi, dp, txp, oancf, ivncf, fincf, dltt, mib, ceq, invt, cogs, revt, sale, capx, xrd, txdb, prcc_f, sstk, prstkc, dltis, dltr, emp, dd1, ppegt, ppent, xint, txt, sppe, gdwl, xrent, re, dvpsx_f, tstk, wcap, rect, xsga, aqc, oibdp, dpact, fic, ni, ivao, ivst, dv, intan, pi, txfo, pifo, xpp, drc, drlt, ap, xacc, itcb]\n",
       "Index: []\n",
       "\n",
       "[0 rows x 86 columns]"
      ]
     },
     "execution_count": null,
     "metadata": {},
     "output_type": "execute_result"
    }
   ],
   "source": [
    "#| eval: false\n",
    "raw.head(0)"
   ]
  },
  {
   "cell_type": "code",
   "execution_count": null,
   "metadata": {},
   "outputs": [],
   "source": [
    "#| export\n",
    "def process_raw_data(\n",
    "        df: pd.DataFrame=None,  # Must contain `permno` and `datadate` columns   \n",
    "        linkprim_filter: list=['P','C'],      \n",
    "        clean_kwargs: dict={},  # Params to pass to `pdm.setup_panel` other than `panel_ids`, `time_var`, and `freq`\n",
    ") -> pd.DataFrame:\n",
    "    \"\"\"Applies `pandasmore.setup_panel` to `df`\"\"\"\n",
    "\n",
    "    if linkprim_filter: df = df.loc[df['linkprim'].isin(linkprim_filter)].copy()\n",
    "\n",
    "    df = pdm.setup_panel(df, panel_ids=ENTITY_ID_IN_RAW_DSET, time_var=TIME_VAR_IN_RAW_DSET, freq=FREQ, **clean_kwargs)\n",
    "    return df "
   ]
  },
  {
   "cell_type": "code",
   "execution_count": null,
   "metadata": {},
   "outputs": [],
   "source": [
    "#| eval: false\n",
    "df_clean = process_raw_data(raw)"
   ]
  },
  {
   "cell_type": "code",
   "execution_count": null,
   "metadata": {},
   "outputs": [
    {
     "data": {
      "text/html": [
       "<div>\n",
       "<style scoped>\n",
       "    .dataframe tbody tr th:only-of-type {\n",
       "        vertical-align: middle;\n",
       "    }\n",
       "\n",
       "    .dataframe tbody tr th {\n",
       "        vertical-align: top;\n",
       "    }\n",
       "\n",
       "    .dataframe thead th {\n",
       "        text-align: right;\n",
       "    }\n",
       "</style>\n",
       "<table border=\"1\" class=\"dataframe\">\n",
       "  <thead>\n",
       "    <tr style=\"text-align: right;\">\n",
       "      <th></th>\n",
       "      <th></th>\n",
       "      <th>datadate</th>\n",
       "      <th>dtdate</th>\n",
       "      <th>permco</th>\n",
       "      <th>iid</th>\n",
       "      <th>linkprim</th>\n",
       "      <th>gvkey</th>\n",
       "      <th>cusip</th>\n",
       "      <th>cik</th>\n",
       "      <th>tic</th>\n",
       "      <th>fyear</th>\n",
       "      <th>...</th>\n",
       "      <th>intan</th>\n",
       "      <th>pi</th>\n",
       "      <th>txfo</th>\n",
       "      <th>pifo</th>\n",
       "      <th>xpp</th>\n",
       "      <th>drc</th>\n",
       "      <th>drlt</th>\n",
       "      <th>ap</th>\n",
       "      <th>xacc</th>\n",
       "      <th>itcb</th>\n",
       "    </tr>\n",
       "    <tr>\n",
       "      <th>permno</th>\n",
       "      <th>Adate</th>\n",
       "      <th></th>\n",
       "      <th></th>\n",
       "      <th></th>\n",
       "      <th></th>\n",
       "      <th></th>\n",
       "      <th></th>\n",
       "      <th></th>\n",
       "      <th></th>\n",
       "      <th></th>\n",
       "      <th></th>\n",
       "      <th></th>\n",
       "      <th></th>\n",
       "      <th></th>\n",
       "      <th></th>\n",
       "      <th></th>\n",
       "      <th></th>\n",
       "      <th></th>\n",
       "      <th></th>\n",
       "      <th></th>\n",
       "      <th></th>\n",
       "      <th></th>\n",
       "    </tr>\n",
       "  </thead>\n",
       "  <tbody>\n",
       "  </tbody>\n",
       "</table>\n",
       "<p>0 rows × 86 columns</p>\n",
       "</div>"
      ],
      "text/plain": [
       "Empty DataFrame\n",
       "Columns: [datadate, dtdate, permco, iid, linkprim, gvkey, cusip, cik, tic, fyear, fyr, naicsh, sich, exchg, lt, at, txditc, pstkl, pstkrv, pstk, csho, ajex, rdip, act, dvc, xad, seq, che, lct, dlc, ib, dvp, txdi, dp, txp, oancf, ivncf, fincf, dltt, mib, ceq, invt, cogs, revt, sale, capx, xrd, txdb, prcc_f, sstk, prstkc, dltis, dltr, emp, dd1, ppegt, ppent, xint, txt, sppe, gdwl, xrent, re, dvpsx_f, tstk, wcap, rect, xsga, aqc, oibdp, dpact, fic, ni, ivao, ivst, dv, intan, pi, txfo, pifo, xpp, drc, drlt, ap, xacc, itcb]\n",
       "Index: []\n",
       "\n",
       "[0 rows x 86 columns]"
      ]
     },
     "execution_count": null,
     "metadata": {},
     "output_type": "execute_result"
    }
   ],
   "source": [
    "#| eval: false\n",
    "df_clean.head(0)"
   ]
  },
  {
   "cell_type": "code",
   "execution_count": null,
   "metadata": {},
   "outputs": [],
   "source": [
    "#| export\n",
    "def features(df: pd.DataFrame=None\n",
    "             ) -> pd.DataFrame:\n",
    "\n",
    "    out = pd.DataFrame(index=df.index)\n",
    "\n",
    "    out['lag_at'] = pdm.lag(df['at'])\n",
    "\n",
    "    # book equity vars\n",
    "    out['pstk0'] = df['pstk'].fillna(0)\n",
    "    out['pref_stock'] = np.where(df['pstkrv'].isnull(), df['pstkl'], df['pstkrv'])\n",
    "    out['pref_stock'] = np.where(out['pref_stock'].isnull(),out['pstk0'], out['pref_stock'])\n",
    "    out['shreq'] = np.where(df['seq'].isnull(), df['ceq'] + out['pstk0'], df['seq'])\n",
    "    out['shreq'] = np.where(out['shreq'].isnull(), df['at'] - df['lt'], out['shreq'])\n",
    "    out['bookeq'] = out['shreq'] + df['txditc'].fillna(0) - out['pref_stock']\n",
    "    out['bookeq_w_itcb'] = out['bookeq'] + df['itcb'].fillna(0)\n",
    "\n",
    "    out['tobinq'] = (df['at'] - out['bookeq'] + df['prcc_f'] * df['csho']) / df['at']\n",
    "\n",
    "    # issuance vars\n",
    "    out['equityiss_tot'] = (pdm.rdiff(out['bookeq']) - pdm.rdiff(df['re'])) \n",
    "    out['equityiss_cfs'] = (df['sstk'].fillna(0) - df['prstkc'].fillna(0))\n",
    "    out['debtiss_tot'] = (pdm.rdiff(df['at']) - pdm.rdiff(out['bookeq'])) \n",
    "    out['debtiss_cfs'] = (df['dltis'].fillna(0) - df['dltr'].fillna(0)) \n",
    "    out['debtiss_bs'] = (pdm.rdiff(df['dltt']) + pdm.rdiff(df['dlc'].fillna(0))) \n",
    "    for v in ['equityiss_tot','equityiss_cfs','debtiss_tot','debtiss_cfs','debtiss_bs']:\n",
    "        out[f'{v}_2la'] = out[v] / out['lag_at']\n",
    "\n",
    "    # investment vars\n",
    "    out['ppent_pch'] = pdm.rpct_change(df['ppent'])\n",
    "    out['capx_2la'] = df['capx'] / out['lag_at']\n",
    "\n",
    "    # profitability vars\n",
    "    out['roa'] = df['ib'] / df['at']\n",
    "\n",
    "    # cash flow vars\n",
    "    out['cflow_is'] = (df['ib']+df['dp']) \n",
    "    out['cflow_cfs'] = df['oancf'] \n",
    "    out['cflow_full'] = np.where(df.dtdate.dt.year<1987, out['cflow_is'], out['cflow_cfs'])\n",
    "    for v in ['cflow_is','cflow_cfs','cflow_full']:\n",
    "        out[f'{v}_2la'] = out[v] / out['lag_at']\n",
    "\n",
    "    # liquidity vars\n",
    "    out['cash_2a'] = df['che'] / df['at']\n",
    "\n",
    "    # leverage vars\n",
    "    out['booklev'] = (df['dltt'] + df['dlc']) / df['at']\n",
    "    out.loc[out.booklev<0, 'booklev'] = 0\n",
    "    out.loc[out.booklev>1, 'booklev'] = 1\n",
    "\n",
    "    # payout vars\n",
    "    out['dividends_2la'] = df['dvc'].fillna(0) / out['lag_at']\n",
    "    out['repurchases_2la'] = df['prstkc'].fillna(0) / out['lag_at']\n",
    "\n",
    "    out = out.replace([np.inf, -np.inf], np.nan)\n",
    "    return out \n"
   ]
  },
  {
   "cell_type": "code",
   "execution_count": null,
   "metadata": {},
   "outputs": [],
   "source": [
    "#| eval: false\n",
    "ftrs = features(df_clean)"
   ]
  },
  {
   "cell_type": "code",
   "execution_count": null,
   "metadata": {},
   "outputs": [
    {
     "data": {
      "text/html": [
       "<div>\n",
       "<style scoped>\n",
       "    .dataframe tbody tr th:only-of-type {\n",
       "        vertical-align: middle;\n",
       "    }\n",
       "\n",
       "    .dataframe tbody tr th {\n",
       "        vertical-align: top;\n",
       "    }\n",
       "\n",
       "    .dataframe thead th {\n",
       "        text-align: right;\n",
       "    }\n",
       "</style>\n",
       "<table border=\"1\" class=\"dataframe\">\n",
       "  <thead>\n",
       "    <tr style=\"text-align: right;\">\n",
       "      <th></th>\n",
       "      <th></th>\n",
       "      <th>lag_at</th>\n",
       "      <th>pstk0</th>\n",
       "      <th>pref_stock</th>\n",
       "      <th>shreq</th>\n",
       "      <th>bookeq</th>\n",
       "      <th>bookeq_w_itcb</th>\n",
       "      <th>tobinq</th>\n",
       "      <th>equityiss_tot</th>\n",
       "      <th>equityiss_cfs</th>\n",
       "      <th>debtiss_tot</th>\n",
       "      <th>...</th>\n",
       "      <th>cflow_is</th>\n",
       "      <th>cflow_cfs</th>\n",
       "      <th>cflow_full</th>\n",
       "      <th>cflow_is_2la</th>\n",
       "      <th>cflow_cfs_2la</th>\n",
       "      <th>cflow_full_2la</th>\n",
       "      <th>cash_2a</th>\n",
       "      <th>booklev</th>\n",
       "      <th>dividends_2la</th>\n",
       "      <th>repurchases_2la</th>\n",
       "    </tr>\n",
       "    <tr>\n",
       "      <th>permno</th>\n",
       "      <th>Adate</th>\n",
       "      <th></th>\n",
       "      <th></th>\n",
       "      <th></th>\n",
       "      <th></th>\n",
       "      <th></th>\n",
       "      <th></th>\n",
       "      <th></th>\n",
       "      <th></th>\n",
       "      <th></th>\n",
       "      <th></th>\n",
       "      <th></th>\n",
       "      <th></th>\n",
       "      <th></th>\n",
       "      <th></th>\n",
       "      <th></th>\n",
       "      <th></th>\n",
       "      <th></th>\n",
       "      <th></th>\n",
       "      <th></th>\n",
       "      <th></th>\n",
       "      <th></th>\n",
       "    </tr>\n",
       "  </thead>\n",
       "  <tbody>\n",
       "  </tbody>\n",
       "</table>\n",
       "<p>0 rows × 30 columns</p>\n",
       "</div>"
      ],
      "text/plain": [
       "Empty DataFrame\n",
       "Columns: [lag_at, pstk0, pref_stock, shreq, bookeq, bookeq_w_itcb, tobinq, equityiss_tot, equityiss_cfs, debtiss_tot, debtiss_cfs, debtiss_bs, equityiss_tot_2la, equityiss_cfs_2la, debtiss_tot_2la, debtiss_cfs_2la, debtiss_bs_2la, ppent_pch, capx_2la, roa, cflow_is, cflow_cfs, cflow_full, cflow_is_2la, cflow_cfs_2la, cflow_full_2la, cash_2a, booklev, dividends_2la, repurchases_2la]\n",
       "Index: []\n",
       "\n",
       "[0 rows x 30 columns]"
      ]
     },
     "execution_count": null,
     "metadata": {},
     "output_type": "execute_result"
    }
   ],
   "source": [
    "#| eval: false\n",
    "ftrs.head(0)"
   ]
  },
  {
   "cell_type": "code",
   "execution_count": null,
   "metadata": {},
   "outputs": [],
   "source": [
    "#| hide\n",
    "import nbdev; nbdev.nbdev_export()"
   ]
  }
 ],
 "metadata": {
  "kernelspec": {
   "display_name": "python3",
   "language": "python",
   "name": "python3"
  }
 },
 "nbformat": 4,
 "nbformat_minor": 2
}
