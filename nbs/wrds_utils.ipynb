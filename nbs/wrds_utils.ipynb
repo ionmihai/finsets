{
 "cells": [
  {
   "attachments": {},
   "cell_type": "markdown",
   "metadata": {},
   "source": [
    "# wrds_utils\n",
    "\n",
    "> Common utilities needed to download and process data from WRDS"
   ]
  },
  {
   "cell_type": "code",
   "execution_count": null,
   "metadata": {},
   "outputs": [],
   "source": [
    "#| default_exp wrds_utils"
   ]
  },
  {
   "cell_type": "code",
   "execution_count": null,
   "metadata": {},
   "outputs": [],
   "source": [
    "#|exports\n",
    "from __future__ import annotations\n",
    "from typing import List, Dict, Tuple, Callable\n",
    "import os\n",
    "\n",
    "import pandas as pd\n",
    "import numpy as np\n",
    "import wrds "
   ]
  },
  {
   "cell_type": "code",
   "execution_count": null,
   "metadata": {},
   "outputs": [],
   "source": [
    "#|export\n",
    "def download(sql_string: str=None,\n",
    "             wrds_username: str=None, #If None, looks for WRDS_USERNAME with `os.getenv`, then prompts you if needed\n",
    "             ) -> pd.DataFrame:\n",
    "    \"\"\"Downloads data from WRDS using the given `sql_string`\"\"\"\n",
    "\n",
    "    if wrds_username is None:\n",
    "        wrds_username = os.getenv('WRDS_USERNAME')\n",
    "        if wrds_username is None: wrds_username = input(\"Enter your WRDS username: \") \n",
    "\n",
    "    dbconn = wrds.Connection(wrds_username = wrds_username)\n",
    "    try : df = dbconn.raw_sql(sql=sql_string)\n",
    "    finally: dbconn.close() \n",
    "    return df"
   ]
  },
  {
   "cell_type": "code",
   "execution_count": null,
   "metadata": {},
   "outputs": [],
   "source": []
  },
  {
   "cell_type": "code",
   "execution_count": null,
   "metadata": {},
   "outputs": [],
   "source": []
  },
  {
   "cell_type": "code",
   "execution_count": null,
   "metadata": {},
   "outputs": [],
   "source": [
    "#| hide\n",
    "import nbdev; nbdev.nbdev_export()"
   ]
  }
 ],
 "metadata": {
  "kernelspec": {
   "display_name": "python3",
   "language": "python",
   "name": "python3"
  }
 },
 "nbformat": 4,
 "nbformat_minor": 2
}
