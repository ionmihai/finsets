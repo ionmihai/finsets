{
 "cells": [
  {
   "attachments": {},
   "cell_type": "markdown",
   "metadata": {},
   "source": [
    "# wrds_compa\n",
    "\n",
    "> WRDS Compustat Annual"
   ]
  },
  {
   "cell_type": "code",
   "execution_count": null,
   "metadata": {},
   "outputs": [],
   "source": [
    "#| default_exp wrds_compa"
   ]
  },
  {
   "cell_type": "code",
   "execution_count": null,
   "metadata": {},
   "outputs": [],
   "source": [
    "#|exports\n",
    "from __future__ import annotations\n",
    "from typing import List, Dict, Tuple, Callable\n",
    "import os\n",
    "\n",
    "import pandas as pd\n",
    "import numpy as np\n",
    "import wrds \n",
    "\n",
    "import pandasmore as pdm\n",
    "from finsets import wrds_utils, wrds_links"
   ]
  },
  {
   "cell_type": "code",
   "execution_count": null,
   "metadata": {},
   "outputs": [],
   "source": [
    "#| export\n",
    "def common_raw_vars():\n",
    "    return ['datadate', 'gvkey', 'cusip' ,'cik' ,'tic' ,'fyear' ,'fyr' ,'naicsh', 'sich' ,'exchg',  \n",
    "            'lt' ,'at' ,'txditc' ,'pstkl' ,'pstkrv' ,'pstk' ,'csho' ,'ajex' , 'rdip',\n",
    "            'act' ,'dvc' ,'xad','seq' ,'che' ,'lct' ,'dlc' ,'ib' ,'dvp' ,'txdi' ,'dp' ,\n",
    "            'txp' ,'oancf' ,'ivncf' ,'fincf' ,'dltt' ,'mib','ceq' ,'invt' ,'cogs' , 'revt',\n",
    "            'sale' ,'capx' ,'xrd' ,'txdb' ,'prcc_f' ,'sstk' ,'prstkc' ,'dltis' ,'dltr' ,'emp' ,\n",
    "            'dd1' ,'ppegt' ,'ppent' ,'xint' ,'txt' ,'sppe' ,'gdwl' ,'xrent' ,'re' ,'dvpsx_f' ,\n",
    "            'tstk' ,'wcap' ,'rect' ,'xsga' ,'aqc' ,'oibdp' ,'dpact' ,'fic' ,'ni' ,'ivao' ,'ivst' ,\n",
    "            'dv' , 'intan' ,'pi' ,'txfo' ,'pifo' ,'xpp' ,'drc' ,'drlt' ,'ap' ,'xacc' ,'itcb']             "
   ]
  },
  {
   "cell_type": "code",
   "execution_count": null,
   "metadata": {},
   "outputs": [
    {
     "name": "stdout",
     "output_type": "stream",
     "text": [
      "['datadate', 'gvkey', 'cusip', 'cik', 'tic', 'fyear', 'fyr', 'naicsh', 'sich', 'exchg', 'lt', 'at', 'txditc', 'pstkl', 'pstkrv', 'pstk', 'csho', 'ajex', 'rdip', 'act', 'dvc', 'xad', 'seq', 'che', 'lct', 'dlc', 'ib', 'dvp', 'txdi', 'dp', 'txp', 'oancf', 'ivncf', 'fincf', 'dltt', 'mib', 'ceq', 'invt', 'cogs', 'revt', 'sale', 'capx', 'xrd', 'txdb', 'prcc_f', 'sstk', 'prstkc', 'dltis', 'dltr', 'emp', 'dd1', 'ppegt', 'ppent', 'xint', 'txt', 'sppe', 'gdwl', 'xrent', 're', 'dvpsx_f', 'tstk', 'wcap', 'rect', 'xsga', 'aqc', 'oibdp', 'dpact', 'fic', 'ni', 'ivao', 'ivst', 'dv', 'intan', 'pi', 'txfo', 'pifo', 'xpp', 'drc', 'drlt', 'ap', 'xacc', 'itcb']\n"
     ]
    }
   ],
   "source": [
    "print(common_raw_vars())"
   ]
  },
  {
   "cell_type": "code",
   "execution_count": null,
   "metadata": {},
   "outputs": [],
   "source": [
    "#|export\n",
    "def download(vars: List[str]=common_raw_vars(),\n",
    "             library: str='comp.funda', # WRDS Compustat library (must start with 'comp.')\n",
    "             wrds_username: str=None, #If None, looks for WRDS_USERNAME with `os.getenv`, then prompts you if needed\n",
    "             ) -> pd.DataFrame:\n",
    "    \"\"\"Downloads `vars` from WRDS `library`\"\"\"\n",
    "\n",
    "    always_get_these = ['datadate', 'gvkey']\n",
    "    vars = always_get_these + [x for x in vars if x not in always_get_these]\n",
    "    sql_string=f\"\"\"select {','.join(vars)} from {library}\n",
    "                        where indfmt='INDL' and datafmt='STD' and popsrc='D' and consol='C'\"\"\"\n",
    "    \n",
    "    return wrds_utils.download(sql_string, wrds_username)"
   ]
  },
  {
   "cell_type": "code",
   "execution_count": null,
   "metadata": {},
   "outputs": [
    {
     "name": "stdout",
     "output_type": "stream",
     "text": [
      "Loading library list...\n",
      "Done\n"
     ]
    }
   ],
   "source": [
    "#| eval: false\n",
    "raw = download(vars=['at'])"
   ]
  },
  {
   "cell_type": "code",
   "execution_count": null,
   "metadata": {},
   "outputs": [
    {
     "data": {
      "text/html": [
       "<div>\n",
       "<style scoped>\n",
       "    .dataframe tbody tr th:only-of-type {\n",
       "        vertical-align: middle;\n",
       "    }\n",
       "\n",
       "    .dataframe tbody tr th {\n",
       "        vertical-align: top;\n",
       "    }\n",
       "\n",
       "    .dataframe thead th {\n",
       "        text-align: right;\n",
       "    }\n",
       "</style>\n",
       "<table border=\"1\" class=\"dataframe\">\n",
       "  <thead>\n",
       "    <tr style=\"text-align: right;\">\n",
       "      <th></th>\n",
       "      <th>datadate</th>\n",
       "      <th>gvkey</th>\n",
       "      <th>at</th>\n",
       "    </tr>\n",
       "  </thead>\n",
       "  <tbody>\n",
       "    <tr>\n",
       "      <th>0</th>\n",
       "      <td>1961-12-31</td>\n",
       "      <td>001000</td>\n",
       "      <td>NaN</td>\n",
       "    </tr>\n",
       "    <tr>\n",
       "      <th>1</th>\n",
       "      <td>1962-12-31</td>\n",
       "      <td>001000</td>\n",
       "      <td>NaN</td>\n",
       "    </tr>\n",
       "    <tr>\n",
       "      <th>2</th>\n",
       "      <td>1963-12-31</td>\n",
       "      <td>001000</td>\n",
       "      <td>NaN</td>\n",
       "    </tr>\n",
       "    <tr>\n",
       "      <th>3</th>\n",
       "      <td>1964-12-31</td>\n",
       "      <td>001000</td>\n",
       "      <td>1.416</td>\n",
       "    </tr>\n",
       "    <tr>\n",
       "      <th>4</th>\n",
       "      <td>1965-12-31</td>\n",
       "      <td>001000</td>\n",
       "      <td>2.310</td>\n",
       "    </tr>\n",
       "  </tbody>\n",
       "</table>\n",
       "</div>"
      ],
      "text/plain": [
       "     datadate   gvkey     at\n",
       "0  1961-12-31  001000    NaN\n",
       "1  1962-12-31  001000    NaN\n",
       "2  1963-12-31  001000    NaN\n",
       "3  1964-12-31  001000  1.416\n",
       "4  1965-12-31  001000  2.310"
      ]
     },
     "execution_count": null,
     "metadata": {},
     "output_type": "execute_result"
    }
   ],
   "source": [
    "#| eval: false\n",
    "#| hide\n",
    "raw.head()"
   ]
  },
  {
   "cell_type": "code",
   "execution_count": null,
   "metadata": {},
   "outputs": [],
   "source": [
    "#| export\n",
    "def clean(df: pd.DataFrame, # If None, downloads the entire comp.funda dataset\n",
    "          ) -> pd.DataFrame:\n",
    "    \n",
    "    if df is None: df = download()\n",
    "    df = wrds_links.merge_permno_into_gvkey(dset_using_gvkey=df)\n",
    "    df = pdm.setup_panel(df, panel_ids='permno', time_var='datadate', freq='Y')\n",
    "    return df "
   ]
  },
  {
   "cell_type": "code",
   "execution_count": null,
   "metadata": {},
   "outputs": [
    {
     "name": "stdout",
     "output_type": "stream",
     "text": [
      "Loading library list...\n",
      "Done\n"
     ]
    }
   ],
   "source": [
    "#| eval: false\n",
    "df = clean(raw)"
   ]
  },
  {
   "cell_type": "code",
   "execution_count": null,
   "metadata": {},
   "outputs": [
    {
     "data": {
      "text/html": [
       "<div>\n",
       "<style scoped>\n",
       "    .dataframe tbody tr th:only-of-type {\n",
       "        vertical-align: middle;\n",
       "    }\n",
       "\n",
       "    .dataframe tbody tr th {\n",
       "        vertical-align: top;\n",
       "    }\n",
       "\n",
       "    .dataframe thead th {\n",
       "        text-align: right;\n",
       "    }\n",
       "</style>\n",
       "<table border=\"1\" class=\"dataframe\">\n",
       "  <thead>\n",
       "    <tr style=\"text-align: right;\">\n",
       "      <th></th>\n",
       "      <th></th>\n",
       "      <th>datadate</th>\n",
       "      <th>dtdate</th>\n",
       "      <th>gvkey</th>\n",
       "      <th>at</th>\n",
       "    </tr>\n",
       "    <tr>\n",
       "      <th>permno</th>\n",
       "      <th>Ydate</th>\n",
       "      <th></th>\n",
       "      <th></th>\n",
       "      <th></th>\n",
       "      <th></th>\n",
       "    </tr>\n",
       "  </thead>\n",
       "  <tbody>\n",
       "    <tr>\n",
       "      <th>10000</th>\n",
       "      <th>1986</th>\n",
       "      <td>1986-10-31</td>\n",
       "      <td>1986-10-31</td>\n",
       "      <td>013007</td>\n",
       "      <td>2.115</td>\n",
       "    </tr>\n",
       "    <tr>\n",
       "      <th rowspan=\"4\" valign=\"top\">10001</th>\n",
       "      <th>1986</th>\n",
       "      <td>1986-06-30</td>\n",
       "      <td>1986-06-30</td>\n",
       "      <td>012994</td>\n",
       "      <td>12.242</td>\n",
       "    </tr>\n",
       "    <tr>\n",
       "      <th>1987</th>\n",
       "      <td>1987-06-30</td>\n",
       "      <td>1987-06-30</td>\n",
       "      <td>012994</td>\n",
       "      <td>11.771</td>\n",
       "    </tr>\n",
       "    <tr>\n",
       "      <th>1988</th>\n",
       "      <td>1988-06-30</td>\n",
       "      <td>1988-06-30</td>\n",
       "      <td>012994</td>\n",
       "      <td>11.735</td>\n",
       "    </tr>\n",
       "    <tr>\n",
       "      <th>1989</th>\n",
       "      <td>1989-06-30</td>\n",
       "      <td>1989-06-30</td>\n",
       "      <td>012994</td>\n",
       "      <td>18.565</td>\n",
       "    </tr>\n",
       "    <tr>\n",
       "      <th>...</th>\n",
       "      <th>...</th>\n",
       "      <td>...</td>\n",
       "      <td>...</td>\n",
       "      <td>...</td>\n",
       "      <td>...</td>\n",
       "    </tr>\n",
       "    <tr>\n",
       "      <th rowspan=\"5\" valign=\"top\">93436</th>\n",
       "      <th>2018</th>\n",
       "      <td>2018-12-31</td>\n",
       "      <td>2018-12-31</td>\n",
       "      <td>184996</td>\n",
       "      <td>29739.614</td>\n",
       "    </tr>\n",
       "    <tr>\n",
       "      <th>2019</th>\n",
       "      <td>2019-12-31</td>\n",
       "      <td>2019-12-31</td>\n",
       "      <td>184996</td>\n",
       "      <td>34309.000</td>\n",
       "    </tr>\n",
       "    <tr>\n",
       "      <th>2020</th>\n",
       "      <td>2020-12-31</td>\n",
       "      <td>2020-12-31</td>\n",
       "      <td>184996</td>\n",
       "      <td>52148.000</td>\n",
       "    </tr>\n",
       "    <tr>\n",
       "      <th>2021</th>\n",
       "      <td>2021-12-31</td>\n",
       "      <td>2021-12-31</td>\n",
       "      <td>184996</td>\n",
       "      <td>62131.000</td>\n",
       "    </tr>\n",
       "    <tr>\n",
       "      <th>2022</th>\n",
       "      <td>2022-12-31</td>\n",
       "      <td>2022-12-31</td>\n",
       "      <td>184996</td>\n",
       "      <td>82338.000</td>\n",
       "    </tr>\n",
       "  </tbody>\n",
       "</table>\n",
       "<p>349537 rows × 4 columns</p>\n",
       "</div>"
      ],
      "text/plain": [
       "                datadate     dtdate   gvkey         at\n",
       "permno Ydate                                          \n",
       "10000  1986   1986-10-31 1986-10-31  013007      2.115\n",
       "10001  1986   1986-06-30 1986-06-30  012994     12.242\n",
       "       1987   1987-06-30 1987-06-30  012994     11.771\n",
       "       1988   1988-06-30 1988-06-30  012994     11.735\n",
       "       1989   1989-06-30 1989-06-30  012994     18.565\n",
       "...                  ...        ...     ...        ...\n",
       "93436  2018   2018-12-31 2018-12-31  184996  29739.614\n",
       "       2019   2019-12-31 2019-12-31  184996  34309.000\n",
       "       2020   2020-12-31 2020-12-31  184996  52148.000\n",
       "       2021   2021-12-31 2021-12-31  184996  62131.000\n",
       "       2022   2022-12-31 2022-12-31  184996  82338.000\n",
       "\n",
       "[349537 rows x 4 columns]"
      ]
     },
     "execution_count": null,
     "metadata": {},
     "output_type": "execute_result"
    }
   ],
   "source": [
    "#| eval: false\n",
    "#| hide\n",
    "df "
   ]
  },
  {
   "cell_type": "code",
   "execution_count": null,
   "metadata": {},
   "outputs": [],
   "source": [
    "#| hide\n",
    "import nbdev; nbdev.nbdev_export()"
   ]
  }
 ],
 "metadata": {
  "kernelspec": {
   "display_name": "python3",
   "language": "python",
   "name": "python3"
  }
 },
 "nbformat": 4,
 "nbformat_minor": 2
}
